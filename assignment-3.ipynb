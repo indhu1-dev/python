{
 "cells": [
  {
   "cell_type": "markdown",
   "id": "07dfb59e",
   "metadata": {},
   "source": [
    "1. Why are functions advantageous to have in your programs?\n"
   ]
  },
  {
   "cell_type": "markdown",
   "id": "ce4f6663",
   "metadata": {},
   "source": [
    "set of logic could be reused multiple times , by passing different inputs if needed."
   ]
  },
  {
   "cell_type": "markdown",
   "id": "ee4493df",
   "metadata": {},
   "source": [
    "2. When does the code in a function run: when it's specified or when it's called?"
   ]
  },
  {
   "cell_type": "markdown",
   "id": "96071218",
   "metadata": {},
   "source": [
    "function will run when its called."
   ]
  },
  {
   "cell_type": "markdown",
   "id": "9baf9fa1",
   "metadata": {},
   "source": [
    "3. What statement creates a function?"
   ]
  },
  {
   "cell_type": "markdown",
   "id": "5f48b74a",
   "metadata": {},
   "source": [
    "def keyword used to create function , function name can be  given with ':'"
   ]
  },
  {
   "cell_type": "code",
   "execution_count": 3,
   "id": "b2b7c36b",
   "metadata": {},
   "outputs": [],
   "source": [
    "def fun1():\n",
    "    pass"
   ]
  },
  {
   "cell_type": "markdown",
   "id": "259ab63b",
   "metadata": {},
   "source": [
    "4. What is the difference between a function and a function call?"
   ]
  },
  {
   "cell_type": "markdown",
   "id": "97fb56eb",
   "metadata": {},
   "source": [
    "function set of lines which gives specific logic , function call is used to call the particular function to execute and produce the result."
   ]
  },
  {
   "cell_type": "code",
   "execution_count": 1,
   "id": "89d22faa",
   "metadata": {},
   "outputs": [],
   "source": [
    "#function definiton\n",
    "def fun1(a,b):\n",
    "    return a+b\n",
    "    "
   ]
  },
  {
   "cell_type": "code",
   "execution_count": 2,
   "id": "a1f8f512",
   "metadata": {},
   "outputs": [
    {
     "data": {
      "text/plain": [
       "11"
      ]
     },
     "execution_count": 2,
     "metadata": {},
     "output_type": "execute_result"
    }
   ],
   "source": [
    "#function call\n",
    "fun1(5,6)"
   ]
  },
  {
   "cell_type": "markdown",
   "id": "40115e13",
   "metadata": {},
   "source": [
    "5. How many global scopes are there in a Python program? How many local scopes?"
   ]
  },
  {
   "cell_type": "markdown",
   "id": "07564ff9",
   "metadata": {},
   "source": [
    "There only two type of scope one gloabal scope and local scope."
   ]
  },
  {
   "cell_type": "code",
   "execution_count": 4,
   "id": "508f7a1c",
   "metadata": {},
   "outputs": [
    {
     "name": "stdout",
     "output_type": "stream",
     "text": [
      "900\n",
      "900\n"
     ]
    }
   ],
   "source": [
    "x=900\n",
    "def fun():\n",
    "    print(x)\n",
    "def fun2():\n",
    "    print(x)\n",
    "fun()\n",
    "fun2()"
   ]
  },
  {
   "cell_type": "markdown",
   "id": "bdaf22f0",
   "metadata": {},
   "source": [
    "The above two function an use the global variable x ."
   ]
  },
  {
   "cell_type": "code",
   "execution_count": 9,
   "id": "c8286e30",
   "metadata": {},
   "outputs": [],
   "source": [
    "def fun3():\n",
    "    y=800\n",
    "    print(y)\n",
    "    def fun4():\n",
    "    \n",
    "        print(y)\n",
    "    fun4()"
   ]
  },
  {
   "cell_type": "code",
   "execution_count": 10,
   "id": "051dd813",
   "metadata": {},
   "outputs": [
    {
     "name": "stdout",
     "output_type": "stream",
     "text": [
      "800\n",
      "800\n"
     ]
    }
   ],
   "source": [
    "fun3()"
   ]
  },
  {
   "cell_type": "code",
   "execution_count": 11,
   "id": "72ddf22b",
   "metadata": {},
   "outputs": [],
   "source": [
    "def fun5():\n",
    "    print(y)"
   ]
  },
  {
   "cell_type": "code",
   "execution_count": 12,
   "id": "a97cc1a8",
   "metadata": {},
   "outputs": [
    {
     "ename": "NameError",
     "evalue": "name 'y' is not defined",
     "output_type": "error",
     "traceback": [
      "\u001b[1;31m---------------------------------------------------------------------------\u001b[0m",
      "\u001b[1;31mNameError\u001b[0m                                 Traceback (most recent call last)",
      "\u001b[1;32m~\\AppData\\Local\\Temp/ipykernel_11564/3976279756.py\u001b[0m in \u001b[0;36m<module>\u001b[1;34m\u001b[0m\n\u001b[1;32m----> 1\u001b[1;33m \u001b[0mfun5\u001b[0m\u001b[1;33m(\u001b[0m\u001b[1;33m)\u001b[0m\u001b[1;33m\u001b[0m\u001b[1;33m\u001b[0m\u001b[0m\n\u001b[0m",
      "\u001b[1;32m~\\AppData\\Local\\Temp/ipykernel_11564/2456330114.py\u001b[0m in \u001b[0;36mfun5\u001b[1;34m()\u001b[0m\n\u001b[0;32m      1\u001b[0m \u001b[1;32mdef\u001b[0m \u001b[0mfun5\u001b[0m\u001b[1;33m(\u001b[0m\u001b[1;33m)\u001b[0m\u001b[1;33m:\u001b[0m\u001b[1;33m\u001b[0m\u001b[1;33m\u001b[0m\u001b[0m\n\u001b[1;32m----> 2\u001b[1;33m     \u001b[0mprint\u001b[0m\u001b[1;33m(\u001b[0m\u001b[0my\u001b[0m\u001b[1;33m)\u001b[0m\u001b[1;33m\u001b[0m\u001b[1;33m\u001b[0m\u001b[0m\n\u001b[0m",
      "\u001b[1;31mNameError\u001b[0m: name 'y' is not defined"
     ]
    }
   ],
   "source": [
    "fun5()"
   ]
  },
  {
   "cell_type": "markdown",
   "id": "a859dba7",
   "metadata": {},
   "source": [
    "fun3 ( ) have local scope to variable y fun4 defined within fun3 so it can usee variable y,but fun5 defined outside the fun3 so it cant use the variable y"
   ]
  },
  {
   "cell_type": "markdown",
   "id": "3b15d4a4",
   "metadata": {},
   "source": [
    "6. What happens to variables in a local scope when the function call returns?"
   ]
  },
  {
   "cell_type": "markdown",
   "id": "af004df6",
   "metadata": {},
   "source": [
    "The value of the variable in a local scope will be lost after its function call."
   ]
  },
  {
   "cell_type": "code",
   "execution_count": 13,
   "id": "05595bea",
   "metadata": {},
   "outputs": [],
   "source": [
    "def fun6():\n",
    "    d=900\n",
    "    print(d)"
   ]
  },
  {
   "cell_type": "code",
   "execution_count": 14,
   "id": "ece5f29f",
   "metadata": {},
   "outputs": [
    {
     "ename": "NameError",
     "evalue": "name 'd' is not defined",
     "output_type": "error",
     "traceback": [
      "\u001b[1;31m---------------------------------------------------------------------------\u001b[0m",
      "\u001b[1;31mNameError\u001b[0m                                 Traceback (most recent call last)",
      "\u001b[1;32m~\\AppData\\Local\\Temp/ipykernel_11564/3161387801.py\u001b[0m in \u001b[0;36m<module>\u001b[1;34m\u001b[0m\n\u001b[1;32m----> 1\u001b[1;33m \u001b[0md\u001b[0m\u001b[1;33m\u001b[0m\u001b[1;33m\u001b[0m\u001b[0m\n\u001b[0m",
      "\u001b[1;31mNameError\u001b[0m: name 'd' is not defined"
     ]
    }
   ],
   "source": [
    "d"
   ]
  },
  {
   "cell_type": "markdown",
   "id": "6eba82f5",
   "metadata": {},
   "source": [
    "7. What is the concept of a return value? Is it possible to have a return value in an expression?"
   ]
  },
  {
   "cell_type": "markdown",
   "id": "155cb455",
   "metadata": {},
   "source": [
    "return value is used to return value of variable or value or operation.no, return value could be used only within the function."
   ]
  },
  {
   "cell_type": "code",
   "execution_count": 16,
   "id": "3fdd77a2",
   "metadata": {},
   "outputs": [],
   "source": [
    "def add(a,b):\n",
    "    return a+b"
   ]
  },
  {
   "cell_type": "code",
   "execution_count": 17,
   "id": "4ec545aa",
   "metadata": {},
   "outputs": [
    {
     "data": {
      "text/plain": [
       "17"
      ]
     },
     "execution_count": 17,
     "metadata": {},
     "output_type": "execute_result"
    }
   ],
   "source": [
    "add(8,9)"
   ]
  },
  {
   "cell_type": "markdown",
   "id": "146519c0",
   "metadata": {},
   "source": [
    "8. If a function does not have a return statement, what is the return value of a call to that function?"
   ]
  },
  {
   "cell_type": "markdown",
   "id": "84ffbba0",
   "metadata": {},
   "source": [
    "if function does not have a return statement, then the return value to function will be none."
   ]
  },
  {
   "cell_type": "markdown",
   "id": "d234ae75",
   "metadata": {},
   "source": [
    "9. How do you make a function variable refer to the global variable?"
   ]
  },
  {
   "cell_type": "markdown",
   "id": "d17af514",
   "metadata": {},
   "source": [
    "by using the global variable inside the function"
   ]
  },
  {
   "cell_type": "code",
   "execution_count": 19,
   "id": "15cb4caf",
   "metadata": {},
   "outputs": [
    {
     "name": "stdout",
     "output_type": "stream",
     "text": [
      "800\n"
     ]
    }
   ],
   "source": [
    "#g global variable\n",
    "g=800\n",
    "def ref():\n",
    "    o=g\n",
    "    print(o)\n",
    "ref()"
   ]
  },
  {
   "cell_type": "markdown",
   "id": "6e8ab0a8",
   "metadata": {},
   "source": [
    "10. What is the data type of None?"
   ]
  },
  {
   "cell_type": "markdown",
   "id": "af797c59",
   "metadata": {},
   "source": [
    "data type of none is null value"
   ]
  },
  {
   "cell_type": "markdown",
   "id": "f2112e14",
   "metadata": {},
   "source": [
    "11. What does the sentence import areallyourpetsnamederic do?"
   ]
  },
  {
   "cell_type": "markdown",
   "id": "4ec8ad35",
   "metadata": {},
   "source": [
    "sentence will import all the methods defined inside areallyourpetsnamederic"
   ]
  },
  {
   "cell_type": "markdown",
   "id": "a6056fc9",
   "metadata": {},
   "source": [
    "12. If you had a bacon() feature in a spam module, what would you call it after importing spam?"
   ]
  },
  {
   "cell_type": "code",
   "execution_count": 21,
   "id": "e1fc062a",
   "metadata": {},
   "outputs": [
    {
     "ename": "ModuleNotFoundError",
     "evalue": "No module named 'spam'",
     "output_type": "error",
     "traceback": [
      "\u001b[1;31m---------------------------------------------------------------------------\u001b[0m",
      "\u001b[1;31mModuleNotFoundError\u001b[0m                       Traceback (most recent call last)",
      "\u001b[1;32m~\\AppData\\Local\\Temp/ipykernel_11564/1272797172.py\u001b[0m in \u001b[0;36m<module>\u001b[1;34m\u001b[0m\n\u001b[1;32m----> 1\u001b[1;33m \u001b[1;32mimport\u001b[0m \u001b[0mspam\u001b[0m\u001b[1;33m\u001b[0m\u001b[1;33m\u001b[0m\u001b[0m\n\u001b[0m\u001b[0;32m      2\u001b[0m \u001b[1;32mfrom\u001b[0m  \u001b[0mspam\u001b[0m \u001b[1;32mimport\u001b[0m \u001b[0mbacon\u001b[0m\u001b[1;33m\u001b[0m\u001b[1;33m\u001b[0m\u001b[0m\n\u001b[0;32m      3\u001b[0m \u001b[1;31m#using above statement bacon() feature could be used.\u001b[0m\u001b[1;33m\u001b[0m\u001b[1;33m\u001b[0m\u001b[0m\n",
      "\u001b[1;31mModuleNotFoundError\u001b[0m: No module named 'spam'"
     ]
    }
   ],
   "source": [
    "import spam\n",
    "from  spam import bacon\n",
    "#using above statement bacon() feature could be used."
   ]
  },
  {
   "cell_type": "markdown",
   "id": "c11227f7",
   "metadata": {},
   "source": [
    "13. What can you do to save a programme from crashing if it encounters an error?"
   ]
  },
  {
   "cell_type": "markdown",
   "id": "06ed3a86",
   "metadata": {},
   "source": [
    "using try and except in error handling program could be saved if it encounter an error"
   ]
  },
  {
   "cell_type": "markdown",
   "id": "f4a73499",
   "metadata": {},
   "source": [
    "14. What is the purpose of the try clause? What is the purpose of the except clause?"
   ]
  },
  {
   "cell_type": "markdown",
   "id": "69567d11",
   "metadata": {},
   "source": [
    "try clause is used to check whether there is a possibiliy error from piece of code, except clause is used to capture the error doesnt affect the rest of code to be executed."
   ]
  },
  {
   "cell_type": "code",
   "execution_count": 24,
   "id": "80fb8d47",
   "metadata": {},
   "outputs": [
    {
     "name": "stdout",
     "output_type": "stream",
     "text": [
      "division by zero\n",
      "hi\n"
     ]
    }
   ],
   "source": [
    "try:\n",
    "    4/0\n",
    "    \n",
    "except Exception as e:\n",
    "    print(e)\n",
    "print('hi')"
   ]
  },
  {
   "cell_type": "code",
   "execution_count": 25,
   "id": "5866e504",
   "metadata": {},
   "outputs": [
    {
     "ename": "ZeroDivisionError",
     "evalue": "division by zero",
     "output_type": "error",
     "traceback": [
      "\u001b[1;31m---------------------------------------------------------------------------\u001b[0m",
      "\u001b[1;31mZeroDivisionError\u001b[0m                         Traceback (most recent call last)",
      "\u001b[1;32m~\\AppData\\Local\\Temp/ipykernel_11564/2115273682.py\u001b[0m in \u001b[0;36m<module>\u001b[1;34m\u001b[0m\n\u001b[0;32m      1\u001b[0m \u001b[1;31m#without try and except\u001b[0m\u001b[1;33m\u001b[0m\u001b[1;33m\u001b[0m\u001b[0m\n\u001b[1;32m----> 2\u001b[1;33m \u001b[1;36m4\u001b[0m\u001b[1;33m/\u001b[0m\u001b[1;36m0\u001b[0m\u001b[1;33m\u001b[0m\u001b[1;33m\u001b[0m\u001b[0m\n\u001b[0m\u001b[0;32m      3\u001b[0m \u001b[0mprint\u001b[0m\u001b[1;33m(\u001b[0m\u001b[1;34m'hi'\u001b[0m\u001b[1;33m)\u001b[0m\u001b[1;33m\u001b[0m\u001b[1;33m\u001b[0m\u001b[0m\n",
      "\u001b[1;31mZeroDivisionError\u001b[0m: division by zero"
     ]
    }
   ],
   "source": [
    "#without try and except\n",
    "4/0\n",
    "#division by zero affects the print statement\n",
    "print('hi')"
   ]
  },
  {
   "cell_type": "code",
   "execution_count": null,
   "id": "84906060",
   "metadata": {},
   "outputs": [],
   "source": []
  }
 ],
 "metadata": {
  "kernelspec": {
   "display_name": "Python 3 (ipykernel)",
   "language": "python",
   "name": "python3"
  },
  "language_info": {
   "codemirror_mode": {
    "name": "ipython",
    "version": 3
   },
   "file_extension": ".py",
   "mimetype": "text/x-python",
   "name": "python",
   "nbconvert_exporter": "python",
   "pygments_lexer": "ipython3",
   "version": "3.9.7"
  }
 },
 "nbformat": 4,
 "nbformat_minor": 5
}
