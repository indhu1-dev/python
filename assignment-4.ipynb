{
 "cells": [
  {
   "cell_type": "markdown",
   "id": "e44f8a49",
   "metadata": {},
   "source": [
    "1. What exactly is []?"
   ]
  },
  {
   "cell_type": "markdown",
   "id": "de3559fd",
   "metadata": {},
   "source": [
    "list can be used to store multiple data type values together and its mutable "
   ]
  },
  {
   "cell_type": "code",
   "execution_count": 1,
   "id": "0df2c10b",
   "metadata": {},
   "outputs": [],
   "source": [
    "l=[2,3.0,'indhu','']"
   ]
  },
  {
   "cell_type": "code",
   "execution_count": 2,
   "id": "4d876d1f",
   "metadata": {},
   "outputs": [
    {
     "data": {
      "text/plain": [
       "[2, 3.0, 'indhu', '']"
      ]
     },
     "execution_count": 2,
     "metadata": {},
     "output_type": "execute_result"
    }
   ],
   "source": [
    "l"
   ]
  },
  {
   "cell_type": "markdown",
   "id": "d56a1cdd",
   "metadata": {},
   "source": [
    "2. In a list of values stored in a variable called spam, how would you assign the value 'hello' as the third value? (Assume [2, 4, 6, 8, 10] are in spam.)"
   ]
  },
  {
   "cell_type": "code",
   "execution_count": 3,
   "id": "aef93c22",
   "metadata": {},
   "outputs": [],
   "source": [
    "spam=[2,4,6,8,10]"
   ]
  },
  {
   "cell_type": "code",
   "execution_count": 4,
   "id": "242737ed",
   "metadata": {},
   "outputs": [],
   "source": [
    "spam[2]='hello'"
   ]
  },
  {
   "cell_type": "code",
   "execution_count": 5,
   "id": "d601918d",
   "metadata": {},
   "outputs": [
    {
     "data": {
      "text/plain": [
       "[2, 4, 'hello', 8, 10]"
      ]
     },
     "execution_count": 5,
     "metadata": {},
     "output_type": "execute_result"
    }
   ],
   "source": [
    "spam"
   ]
  },
  {
   "cell_type": "markdown",
   "id": "14f19a9b",
   "metadata": {},
   "source": [
    "3. What is the value of spam[int(int('3' * 2) / 11)]?"
   ]
  },
  {
   "cell_type": "code",
   "execution_count": 6,
   "id": "ad8f683a",
   "metadata": {},
   "outputs": [
    {
     "data": {
      "text/plain": [
       "8"
      ]
     },
     "execution_count": 6,
     "metadata": {},
     "output_type": "execute_result"
    }
   ],
   "source": [
    "spam[int(int('3' * 2) / 11)]"
   ]
  },
  {
   "cell_type": "markdown",
   "id": "3df475f4",
   "metadata": {},
   "source": [
    "4. What is the value of spam[-1]?"
   ]
  },
  {
   "cell_type": "code",
   "execution_count": 8,
   "id": "03af4237",
   "metadata": {},
   "outputs": [
    {
     "data": {
      "text/plain": [
       "10"
      ]
     },
     "execution_count": 8,
     "metadata": {},
     "output_type": "execute_result"
    }
   ],
   "source": [
    "spam[-1]"
   ]
  },
  {
   "cell_type": "markdown",
   "id": "1ca5e685",
   "metadata": {},
   "source": [
    "5. What is the value of spam[:2]?"
   ]
  },
  {
   "cell_type": "code",
   "execution_count": 9,
   "id": "c20b4c7d",
   "metadata": {},
   "outputs": [
    {
     "data": {
      "text/plain": [
       "[2, 4]"
      ]
     },
     "execution_count": 9,
     "metadata": {},
     "output_type": "execute_result"
    }
   ],
   "source": [
    "spam[:2]"
   ]
  },
  {
   "cell_type": "code",
   "execution_count": 12,
   "id": "f09d9def",
   "metadata": {},
   "outputs": [],
   "source": [
    "bacon=[3.14, 'cat', 11, 'cat', True]"
   ]
  },
  {
   "cell_type": "markdown",
   "id": "0c7b896d",
   "metadata": {},
   "source": [
    "6. What is the value of bacon.index('cat')?"
   ]
  },
  {
   "cell_type": "code",
   "execution_count": 13,
   "id": "cfeadea2",
   "metadata": {},
   "outputs": [
    {
     "data": {
      "text/plain": [
       "1"
      ]
     },
     "execution_count": 13,
     "metadata": {},
     "output_type": "execute_result"
    }
   ],
   "source": [
    " bacon.index('cat')"
   ]
  },
  {
   "cell_type": "markdown",
   "id": "3aa91f43",
   "metadata": {},
   "source": [
    "7. How does bacon.append(99) change the look of the list value in bacon?"
   ]
  },
  {
   "cell_type": "code",
   "execution_count": 14,
   "id": "e1d87c0c",
   "metadata": {},
   "outputs": [],
   "source": [
    "bacon.append(99)"
   ]
  },
  {
   "cell_type": "code",
   "execution_count": 15,
   "id": "f98c0865",
   "metadata": {},
   "outputs": [
    {
     "data": {
      "text/plain": [
       "[3.14, 'cat', 11, 'cat', True, 99]"
      ]
     },
     "execution_count": 15,
     "metadata": {},
     "output_type": "execute_result"
    }
   ],
   "source": [
    "bacon"
   ]
  },
  {
   "cell_type": "markdown",
   "id": "daeee73b",
   "metadata": {},
   "source": [
    "8. How does bacon.remove('cat') change the look of the list in bacon?"
   ]
  },
  {
   "cell_type": "code",
   "execution_count": 16,
   "id": "e78c6eb7",
   "metadata": {},
   "outputs": [],
   "source": [
    "bacon.remove('cat')"
   ]
  },
  {
   "cell_type": "code",
   "execution_count": 17,
   "id": "cd972a8c",
   "metadata": {},
   "outputs": [
    {
     "data": {
      "text/plain": [
       "[3.14, 11, 'cat', True, 99]"
      ]
     },
     "execution_count": 17,
     "metadata": {},
     "output_type": "execute_result"
    }
   ],
   "source": [
    "bacon"
   ]
  },
  {
   "cell_type": "markdown",
   "id": "d0ef0b49",
   "metadata": {},
   "source": [
    "9. What are the list concatenation and list replication operators?"
   ]
  },
  {
   "cell_type": "markdown",
   "id": "64e1b8fe",
   "metadata": {},
   "source": [
    "The operator for list concatenation is +, while the operator for replication is *. "
   ]
  },
  {
   "cell_type": "code",
   "execution_count": 18,
   "id": "c57cb87f",
   "metadata": {},
   "outputs": [],
   "source": [
    "l=bacon+[6,7,8]"
   ]
  },
  {
   "cell_type": "code",
   "execution_count": 19,
   "id": "c96592ea",
   "metadata": {},
   "outputs": [
    {
     "data": {
      "text/plain": [
       "[3.14, 11, 'cat', True, 99, 6, 7, 8]"
      ]
     },
     "execution_count": 19,
     "metadata": {},
     "output_type": "execute_result"
    }
   ],
   "source": [
    "l"
   ]
  },
  {
   "cell_type": "code",
   "execution_count": 21,
   "id": "91a38c88",
   "metadata": {},
   "outputs": [],
   "source": [
    "l.append(9)"
   ]
  },
  {
   "cell_type": "code",
   "execution_count": 23,
   "id": "0241b5fe",
   "metadata": {},
   "outputs": [],
   "source": [
    "l2=l*3"
   ]
  },
  {
   "cell_type": "markdown",
   "id": "6837de64",
   "metadata": {},
   "source": [
    "l2"
   ]
  },
  {
   "cell_type": "code",
   "execution_count": 24,
   "id": "ac22c7b8",
   "metadata": {},
   "outputs": [
    {
     "data": {
      "text/plain": [
       "[3.14,\n",
       " 11,\n",
       " 'cat',\n",
       " True,\n",
       " 99,\n",
       " 6,\n",
       " 7,\n",
       " 8,\n",
       " 9,\n",
       " 3.14,\n",
       " 11,\n",
       " 'cat',\n",
       " True,\n",
       " 99,\n",
       " 6,\n",
       " 7,\n",
       " 8,\n",
       " 9,\n",
       " 3.14,\n",
       " 11,\n",
       " 'cat',\n",
       " True,\n",
       " 99,\n",
       " 6,\n",
       " 7,\n",
       " 8,\n",
       " 9]"
      ]
     },
     "execution_count": 24,
     "metadata": {},
     "output_type": "execute_result"
    }
   ],
   "source": [
    "l2"
   ]
  },
  {
   "cell_type": "markdown",
   "id": "1492d409",
   "metadata": {},
   "source": [
    "10. What is difference between the list methods append() and insert()?"
   ]
  },
  {
   "cell_type": "markdown",
   "id": "f940161e",
   "metadata": {},
   "source": [
    "append() used to insert element at the end of the list , insert() is used to insert element at a particular index"
   ]
  },
  {
   "cell_type": "code",
   "execution_count": 25,
   "id": "2922de36",
   "metadata": {},
   "outputs": [],
   "source": [
    "i=[12,56,89,9]"
   ]
  },
  {
   "cell_type": "code",
   "execution_count": 26,
   "id": "89544aa9",
   "metadata": {},
   "outputs": [],
   "source": [
    "i.append(8)"
   ]
  },
  {
   "cell_type": "code",
   "execution_count": 28,
   "id": "325a5c8c",
   "metadata": {},
   "outputs": [],
   "source": [
    "i.insert(1,5)"
   ]
  },
  {
   "cell_type": "code",
   "execution_count": 29,
   "id": "e925930a",
   "metadata": {},
   "outputs": [
    {
     "data": {
      "text/plain": [
       "[12, 5, 56, 89, 9, 8]"
      ]
     },
     "execution_count": 29,
     "metadata": {},
     "output_type": "execute_result"
    }
   ],
   "source": [
    "i"
   ]
  },
  {
   "cell_type": "markdown",
   "id": "edc73dc2",
   "metadata": {},
   "source": [
    "11. What are the two methods for removing items from a list?"
   ]
  },
  {
   "cell_type": "markdown",
   "id": "aa51e323",
   "metadata": {},
   "source": [
    "pop()-->used to remove the last element from the list \n",
    "remove()-->used to remove particular value from list"
   ]
  },
  {
   "cell_type": "code",
   "execution_count": 30,
   "id": "045a881b",
   "metadata": {},
   "outputs": [
    {
     "data": {
      "text/plain": [
       "8"
      ]
     },
     "execution_count": 30,
     "metadata": {},
     "output_type": "execute_result"
    }
   ],
   "source": [
    "i.pop()"
   ]
  },
  {
   "cell_type": "code",
   "execution_count": 31,
   "id": "a830234b",
   "metadata": {},
   "outputs": [
    {
     "data": {
      "text/plain": [
       "[12, 5, 56, 89, 9]"
      ]
     },
     "execution_count": 31,
     "metadata": {},
     "output_type": "execute_result"
    }
   ],
   "source": [
    "i"
   ]
  },
  {
   "cell_type": "code",
   "execution_count": 32,
   "id": "933ab609",
   "metadata": {},
   "outputs": [],
   "source": [
    "i.remove(5)"
   ]
  },
  {
   "cell_type": "code",
   "execution_count": 33,
   "id": "e73b50dd",
   "metadata": {},
   "outputs": [
    {
     "data": {
      "text/plain": [
       "[12, 56, 89, 9]"
      ]
     },
     "execution_count": 33,
     "metadata": {},
     "output_type": "execute_result"
    }
   ],
   "source": [
    "i"
   ]
  },
  {
   "cell_type": "markdown",
   "id": "9c5fd215",
   "metadata": {},
   "source": [
    "12. Describe how list values and string values are identical."
   ]
  },
  {
   "cell_type": "markdown",
   "id": "a92097c0",
   "metadata": {},
   "source": [
    "list and string value both are mutable, element can be added ,inserted or deleted from list."
   ]
  },
  {
   "cell_type": "markdown",
   "id": "839e3bd5",
   "metadata": {},
   "source": [
    "13. What's the difference between tuples and lists?"
   ]
  },
  {
   "cell_type": "markdown",
   "id": "a47e4283",
   "metadata": {},
   "source": [
    "tuples are immutable elements(insert,delete,update not feasible)whereas list is mutable(insert,delete,update is feasible)"
   ]
  },
  {
   "cell_type": "markdown",
   "id": "711ebaff",
   "metadata": {},
   "source": [
    "14. How do you type a tuple value that only contains the integer 42?"
   ]
  },
  {
   "cell_type": "code",
   "execution_count": 38,
   "id": "3cc9fffb",
   "metadata": {},
   "outputs": [],
   "source": [
    "#trailing comma is manditory\n",
    "t=(42,)"
   ]
  },
  {
   "cell_type": "code",
   "execution_count": 39,
   "id": "6b16c389",
   "metadata": {},
   "outputs": [
    {
     "data": {
      "text/plain": [
       "(42,)"
      ]
     },
     "execution_count": 39,
     "metadata": {},
     "output_type": "execute_result"
    }
   ],
   "source": [
    "t"
   ]
  },
  {
   "cell_type": "code",
   "execution_count": 40,
   "id": "1c599283",
   "metadata": {},
   "outputs": [
    {
     "data": {
      "text/plain": [
       "tuple"
      ]
     },
     "execution_count": 40,
     "metadata": {},
     "output_type": "execute_result"
    }
   ],
   "source": [
    "type(t)"
   ]
  },
  {
   "cell_type": "markdown",
   "id": "1b85528d",
   "metadata": {},
   "source": [
    "15. How do you get a list value's tuple form? How do you get a tuple value's list form?\n"
   ]
  },
  {
   "cell_type": "code",
   "execution_count": 41,
   "id": "cf93d429",
   "metadata": {},
   "outputs": [],
   "source": [
    "l=[1,3,5,'ind',9.0]"
   ]
  },
  {
   "cell_type": "code",
   "execution_count": 49,
   "id": "49405efc",
   "metadata": {},
   "outputs": [],
   "source": [
    "t=tuple(l)"
   ]
  },
  {
   "cell_type": "code",
   "execution_count": 50,
   "id": "79dc3f94",
   "metadata": {},
   "outputs": [
    {
     "data": {
      "text/plain": [
       "tuple"
      ]
     },
     "execution_count": 50,
     "metadata": {},
     "output_type": "execute_result"
    }
   ],
   "source": [
    "type(t)"
   ]
  },
  {
   "cell_type": "code",
   "execution_count": 51,
   "id": "13389584",
   "metadata": {},
   "outputs": [
    {
     "data": {
      "text/plain": [
       "(1, 3, 5, 'ind', 9.0)"
      ]
     },
     "execution_count": 51,
     "metadata": {},
     "output_type": "execute_result"
    }
   ],
   "source": [
    "t"
   ]
  },
  {
   "cell_type": "code",
   "execution_count": 52,
   "id": "cc711afa",
   "metadata": {},
   "outputs": [
    {
     "data": {
      "text/plain": [
       "list"
      ]
     },
     "execution_count": 52,
     "metadata": {},
     "output_type": "execute_result"
    }
   ],
   "source": [
    "l1=list(t)\n",
    "type(l1)"
   ]
  },
  {
   "cell_type": "markdown",
   "id": "35093028",
   "metadata": {},
   "source": [
    "16. Variables that \"contain\" list values are not necessarily lists themselves. Instead, what do they contain?"
   ]
  },
  {
   "cell_type": "markdown",
   "id": "8ab62c8c",
   "metadata": {},
   "source": [
    "list contain string,also tuple , list,set or dictionary inside the list"
   ]
  },
  {
   "cell_type": "code",
   "execution_count": 55,
   "id": "d7abe081",
   "metadata": {},
   "outputs": [],
   "source": [
    "l3=[1,2,3,[1,2,3],(8,9),{9,7},{'i':0,'k':7}]"
   ]
  },
  {
   "cell_type": "code",
   "execution_count": 56,
   "id": "0a318a18",
   "metadata": {},
   "outputs": [
    {
     "data": {
      "text/plain": [
       "[1, 2, 3, [1, 2, 3], (8, 9), {7, 9}, {'i': 0, 'k': 7}]"
      ]
     },
     "execution_count": 56,
     "metadata": {},
     "output_type": "execute_result"
    }
   ],
   "source": [
    "l3"
   ]
  },
  {
   "cell_type": "markdown",
   "id": "6bd3a970",
   "metadata": {},
   "source": [
    "17. How do you distinguish between copy.copy() and copy.deepcopy()?"
   ]
  },
  {
   "cell_type": "code",
   "execution_count": 57,
   "id": "9d241804",
   "metadata": {},
   "outputs": [],
   "source": [
    "l1=[1,2,3,[4,5]]"
   ]
  },
  {
   "cell_type": "code",
   "execution_count": 60,
   "id": "0a5f3471",
   "metadata": {},
   "outputs": [],
   "source": [
    "import copy\n",
    "l2=copy.copy(l1)"
   ]
  },
  {
   "cell_type": "code",
   "execution_count": 61,
   "id": "3b8d6a55",
   "metadata": {},
   "outputs": [
    {
     "data": {
      "text/plain": [
       "[1, 2, 3, [4, 5]]"
      ]
     },
     "execution_count": 61,
     "metadata": {},
     "output_type": "execute_result"
    }
   ],
   "source": [
    "l2"
   ]
  },
  {
   "cell_type": "code",
   "execution_count": 62,
   "id": "05ca739b",
   "metadata": {},
   "outputs": [],
   "source": [
    "l3=copy.deepcopy(l1)"
   ]
  },
  {
   "cell_type": "code",
   "execution_count": 63,
   "id": "4dfa0ea6",
   "metadata": {},
   "outputs": [
    {
     "data": {
      "text/plain": [
       "[1, 2, 3, [4, 5]]"
      ]
     },
     "execution_count": 63,
     "metadata": {},
     "output_type": "execute_result"
    }
   ],
   "source": [
    "l3"
   ]
  },
  {
   "cell_type": "code",
   "execution_count": null,
   "id": "881947a3",
   "metadata": {},
   "outputs": [],
   "source": []
  }
 ],
 "metadata": {
  "kernelspec": {
   "display_name": "Python 3 (ipykernel)",
   "language": "python",
   "name": "python3"
  },
  "language_info": {
   "codemirror_mode": {
    "name": "ipython",
    "version": 3
   },
   "file_extension": ".py",
   "mimetype": "text/x-python",
   "name": "python",
   "nbconvert_exporter": "python",
   "pygments_lexer": "ipython3",
   "version": "3.9.7"
  }
 },
 "nbformat": 4,
 "nbformat_minor": 5
}
