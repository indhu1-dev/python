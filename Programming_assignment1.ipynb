{
  "cells": [
    {
      "cell_type": "markdown",
      "source": [
        "Write a Python program to print &quot;Hello Python&quot;?\n",
        "\n"
      ],
      "metadata": {
        "id": "yP4Jk9625UNj"
      }
    },
    {
      "cell_type": "code",
      "source": [
        "print ('hello world')"
      ],
      "metadata": {
        "id": "k1TMdzKT52Sm",
        "outputId": "a29624d2-f479-4abe-fcc2-58dbdb4bf3ff",
        "colab": {
          "base_uri": "https://localhost:8080/"
        }
      },
      "execution_count": 6,
      "outputs": [
        {
          "output_type": "stream",
          "name": "stdout",
          "text": [
            "hello world\n"
          ]
        }
      ]
    },
    {
      "cell_type": "markdown",
      "source": [
        "2. Write a Python program to do arithmetical operations addition and division.?"
      ],
      "metadata": {
        "id": "XG8quKnC7KZk"
      }
    },
    {
      "cell_type": "code",
      "source": [
        "def add(a,b):\n",
        "  return a+b"
      ],
      "metadata": {
        "id": "TYlddfhO7RYK"
      },
      "execution_count": 7,
      "outputs": []
    },
    {
      "cell_type": "code",
      "source": [
        "add(6,7)"
      ],
      "metadata": {
        "id": "O7OTYUXN7ZBp",
        "outputId": "29c3f836-d7fb-4602-f5cf-ad616d97dea8",
        "colab": {
          "base_uri": "https://localhost:8080/"
        }
      },
      "execution_count": 8,
      "outputs": [
        {
          "output_type": "execute_result",
          "data": {
            "text/plain": [
              "13"
            ]
          },
          "metadata": {},
          "execution_count": 8
        }
      ]
    },
    {
      "cell_type": "code",
      "source": [
        "def div(a,b):\n",
        "  try :\n",
        "    div=a//b\n",
        "    return div\n",
        "  except Exception as e:\n",
        "    print('Error is',e)"
      ],
      "metadata": {
        "id": "hlwnZCkW7bNV"
      },
      "execution_count": 13,
      "outputs": []
    },
    {
      "cell_type": "code",
      "source": [
        "div(6,3)"
      ],
      "metadata": {
        "id": "7Y6VmuyM72WE",
        "outputId": "a4a1c287-80a2-4ed9-d3fd-e90229854091",
        "colab": {
          "base_uri": "https://localhost:8080/"
        }
      },
      "execution_count": 14,
      "outputs": [
        {
          "output_type": "execute_result",
          "data": {
            "text/plain": [
              "2"
            ]
          },
          "metadata": {},
          "execution_count": 14
        }
      ]
    },
    {
      "cell_type": "code",
      "source": [
        "div(6,0)"
      ],
      "metadata": {
        "id": "hgzK0dx978B7",
        "outputId": "c89748c7-b269-4139-fa16-6d634c9ad9b8",
        "colab": {
          "base_uri": "https://localhost:8080/"
        }
      },
      "execution_count": 15,
      "outputs": [
        {
          "output_type": "stream",
          "name": "stdout",
          "text": [
            "Error is integer division or modulo by zero\n"
          ]
        }
      ]
    },
    {
      "cell_type": "markdown",
      "source": [
        "3.Write a Python program to find the area of a triangle?"
      ],
      "metadata": {
        "id": "FZOSNWps8J5y"
      }
    },
    {
      "cell_type": "code",
      "source": [
        "def area(a,b,c):\n",
        "  try :\n",
        "    s=(a+b+c)/2\n",
        "    area=(s*(s-a)*(s-b)*(s-c))**0.5\n",
        "    return area\n",
        "  except Exception as e:\n",
        "     print(e)"
      ],
      "metadata": {
        "id": "wxZTNBl_8OeQ"
      },
      "execution_count": 23,
      "outputs": []
    },
    {
      "cell_type": "code",
      "source": [
        "area(4,5,6)"
      ],
      "metadata": {
        "id": "deedV0hu9lwG",
        "outputId": "1a15a587-03c0-494d-cb87-9a644ad9558a",
        "colab": {
          "base_uri": "https://localhost:8080/"
        }
      },
      "execution_count": 24,
      "outputs": [
        {
          "output_type": "execute_result",
          "data": {
            "text/plain": [
              "9.921567416492215"
            ]
          },
          "metadata": {},
          "execution_count": 24
        }
      ]
    },
    {
      "cell_type": "markdown",
      "source": [
        "4. Write a Python program to swap two variables?"
      ],
      "metadata": {
        "id": "52xPkg47_OL_"
      }
    },
    {
      "cell_type": "code",
      "source": [
        "def swap(a,b):\n",
        "  temp=a\n",
        "  a=b\n",
        "  b=temp\n",
        "  return a , b"
      ],
      "metadata": {
        "id": "FUcaDUjC_PyT"
      },
      "execution_count": 26,
      "outputs": []
    },
    {
      "cell_type": "code",
      "source": [
        "swap(4,5)"
      ],
      "metadata": {
        "id": "vHURAe9p_ngt",
        "outputId": "333baa54-a10c-4ddb-afed-9a00d06388e0",
        "colab": {
          "base_uri": "https://localhost:8080/"
        }
      },
      "execution_count": 27,
      "outputs": [
        {
          "output_type": "execute_result",
          "data": {
            "text/plain": [
              "(5, 4)"
            ]
          },
          "metadata": {},
          "execution_count": 27
        }
      ]
    },
    {
      "cell_type": "markdown",
      "source": [
        "5.Write a Python program to generate a random number?"
      ],
      "metadata": {
        "id": "zePmNiF8_1dk"
      }
    },
    {
      "cell_type": "code",
      "source": [
        "import random\n",
        "random.randint(2,10)"
      ],
      "metadata": {
        "id": "LcfqlK-c_3Wd",
        "outputId": "b932e884-cbcf-4c96-84fd-c59b84530314",
        "colab": {
          "base_uri": "https://localhost:8080/"
        }
      },
      "execution_count": 32,
      "outputs": [
        {
          "output_type": "execute_result",
          "data": {
            "text/plain": [
              "3"
            ]
          },
          "metadata": {},
          "execution_count": 32
        }
      ]
    },
    {
      "cell_type": "code",
      "source": [
        ""
      ],
      "metadata": {
        "id": "UBqSjJkxALrE"
      },
      "execution_count": 31,
      "outputs": []
    }
  ],
  "metadata": {
    "colab": {
      "collapsed_sections": [],
      "name": "Welcome To Colaboratory",
      "toc_visible": true,
      "provenance": []
    },
    "kernelspec": {
      "display_name": "Python 3",
      "name": "python3"
    }
  },
  "nbformat": 4,
  "nbformat_minor": 0
}