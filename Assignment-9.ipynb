{
 "cells": [
  {
   "cell_type": "markdown",
   "id": "becb5e48",
   "metadata": {},
   "source": [
    "1. To what does a relative path refer?"
   ]
  },
  {
   "cell_type": "markdown",
   "id": "8a97a76d",
   "metadata": {},
   "source": [
    "A relative path refers to a location that is relative to a current directory."
   ]
  },
  {
   "cell_type": "markdown",
   "id": "66d10ff1",
   "metadata": {},
   "source": [
    "2. What does an absolute path start with your operating system?\n"
   ]
  },
  {
   "cell_type": "markdown",
   "id": "55d5c1bd",
   "metadata": {},
   "source": [
    "absolute path is a complete path from start of actual file system from / directory."
   ]
  },
  {
   "cell_type": "markdown",
   "id": "660c0662",
   "metadata": {},
   "source": [
    "3. What do the functions os.getcwd() and os.chdir() do?"
   ]
  },
  {
   "cell_type": "markdown",
   "id": "f7a8670f",
   "metadata": {},
   "source": [
    "os.getcwd() get the current working directory as a string value. os.chdir() change the current working directory to the argument."
   ]
  },
  {
   "cell_type": "code",
   "execution_count": 1,
   "id": "b9bcf444",
   "metadata": {},
   "outputs": [],
   "source": [
    "import os"
   ]
  },
  {
   "cell_type": "code",
   "execution_count": 2,
   "id": "ae50909b",
   "metadata": {},
   "outputs": [
    {
     "data": {
      "text/plain": [
       "'C:\\\\Users\\\\Lenovo'"
      ]
     },
     "execution_count": 2,
     "metadata": {},
     "output_type": "execute_result"
    }
   ],
   "source": [
    "os.getcwd()"
   ]
  },
  {
   "cell_type": "code",
   "execution_count": 4,
   "id": "1b6e93f9",
   "metadata": {},
   "outputs": [],
   "source": [
    "os.chdir('D:\\\\')"
   ]
  },
  {
   "cell_type": "code",
   "execution_count": 5,
   "id": "5a21d264",
   "metadata": {},
   "outputs": [
    {
     "data": {
      "text/plain": [
       "'D:\\\\'"
      ]
     },
     "execution_count": 5,
     "metadata": {},
     "output_type": "execute_result"
    }
   ],
   "source": [
    "os.getcwd()"
   ]
  },
  {
   "cell_type": "markdown",
   "id": "cb7cc5f9",
   "metadata": {},
   "source": [
    "4. What are the . and .. folders?"
   ]
  },
  {
   "cell_type": "markdown",
   "id": "71ed1ac4",
   "metadata": {},
   "source": [
    "a dot (.) and a double-dot (..), which translate into the current directory and the parent directory."
   ]
  },
  {
   "cell_type": "markdown",
   "id": "2f18b31c",
   "metadata": {},
   "source": [
    "5. In C:\\bacon\\eggs\\spam.txt, which part is the dir name, and which part is the base name?"
   ]
  },
  {
   "cell_type": "markdown",
   "id": "25288bda",
   "metadata": {},
   "source": [
    "C:\\bacon\\eggs\\ -Directory name , spam.txt -base name"
   ]
  },
  {
   "cell_type": "markdown",
   "id": "d87cd8e5",
   "metadata": {},
   "source": [
    "6. What are the three “mode” arguments that can be passed to the open() function?"
   ]
  },
  {
   "cell_type": "raw",
   "id": "47f6629e",
   "metadata": {},
   "source": [
    "mode: This parameter is a string that is used to specify the mode in which the file is to be opened. The following strings can be used to activate a specific mode:\n",
    "\n",
    "“r”: This string is used to read(only) the file. It is passed as default if no parameter is supplied and returns an error if no such file exists.\n",
    "“w”: This string is used for writing on/over the file. If the file with the supplied name doesn’t exist, it creates one for you.\n",
    "“a”: This string is used to add(append) content to an existing file. If no such file exists, it creates one for you.\n",
    "“x”: This string is used to create a specific file.\n",
    "“b”: This string is used when the user wants to handle the file in binary mode. This is generally used to handle image files.\n",
    "“t”: This string is used to handle files in text mode. By default, the open() function uses the text mode."
   ]
  },
  {
   "cell_type": "markdown",
   "id": "d416987c",
   "metadata": {},
   "source": [
    "7. What happens if an existing file is opened in write mode?"
   ]
  },
  {
   "cell_type": "markdown",
   "id": "9df4b338",
   "metadata": {},
   "source": [
    "When mode “w” is specified, it creates an empty file for output operations. What if the file already exists? If a file with the same name already exists, its contents are discarded and the file is treated as a new empty file"
   ]
  },
  {
   "cell_type": "markdown",
   "id": "7f40d3d0",
   "metadata": {},
   "source": [
    "8. How do you tell the difference between read() and readlines()?\n"
   ]
  },
  {
   "cell_type": "code",
   "execution_count": 1,
   "id": "9a43959e",
   "metadata": {},
   "outputs": [
    {
     "name": "stdout",
     "output_type": "stream",
     "text": [
      "hhoHADO\n"
     ]
    }
   ],
   "source": [
    "with open(\"test.txt\", \"r\") as file:\n",
    "    line = file.readline()\n",
    "    print(line)"
   ]
  },
  {
   "cell_type": "code",
   "execution_count": 2,
   "id": "36f6a21c",
   "metadata": {},
   "outputs": [
    {
     "name": "stdout",
     "output_type": "stream",
     "text": [
      "hhoHADO\n"
     ]
    }
   ],
   "source": [
    "with open(\"test.txt\", \"r\") as file:\n",
    "    line = file.read()\n",
    "    print(line)"
   ]
  },
  {
   "cell_type": "markdown",
   "id": "0155d1b3",
   "metadata": {},
   "source": [
    "The main difference is that read() will read the whole file at once and then print out the first characters that take up as many bytes as you specify in the parenthesis versus the readline() that will read and print out only the first characters that take up as many bytes as you specify in the parenthesis"
   ]
  },
  {
   "cell_type": "markdown",
   "id": "2de40894",
   "metadata": {},
   "source": [
    "9. What data structure does a shelf value resemble?"
   ]
  },
  {
   "cell_type": "markdown",
   "id": "c968a6f2",
   "metadata": {},
   "source": [
    "A shelf value resembles a dictionary value; it has keys and values, along with keys() and values() methods that work similarly to the dictionary methods of the same names."
   ]
  },
  {
   "cell_type": "code",
   "execution_count": null,
   "id": "2593db52",
   "metadata": {},
   "outputs": [],
   "source": []
  }
 ],
 "metadata": {
  "kernelspec": {
   "display_name": "Python 3 (ipykernel)",
   "language": "python",
   "name": "python3"
  },
  "language_info": {
   "codemirror_mode": {
    "name": "ipython",
    "version": 3
   },
   "file_extension": ".py",
   "mimetype": "text/x-python",
   "name": "python",
   "nbconvert_exporter": "python",
   "pygments_lexer": "ipython3",
   "version": "3.9.7"
  }
 },
 "nbformat": 4,
 "nbformat_minor": 5
}
