{
 "cells": [
  {
   "cell_type": "markdown",
   "id": "d0488cb1",
   "metadata": {},
   "source": [
    "1. What is the name of the feature responsible for generating Regex objects?"
   ]
  },
  {
   "cell_type": "code",
   "execution_count": 2,
   "id": "92b21d2e",
   "metadata": {},
   "outputs": [
    {
     "name": "stdout",
     "output_type": "stream",
     "text": [
      "The book matches\n",
      "The bookworm matches\n",
      "The bookish matches\n",
      "The bookstore matches\n"
     ]
    }
   ],
   "source": [
    "import re\n",
    "\n",
    "words = ('book', 'bookworm', 'Bible', \n",
    "    'bookish','cookbook', 'bookstore', 'pocketbook')\n",
    "\n",
    "pattern = re.compile(r'book')\n",
    "\n",
    "for word in words:\n",
    "\n",
    "    if re.match(pattern, word):\n",
    "        print(f'The {word} matches')"
   ]
  },
  {
   "cell_type": "code",
   "execution_count": 3,
   "id": "52a87006",
   "metadata": {},
   "outputs": [
    {
     "name": "stdout",
     "output_type": "stream",
     "text": [
      "The book matches\n"
     ]
    }
   ],
   "source": [
    "for word in words:\n",
    "\n",
    "    if re.fullmatch(pattern, word):\n",
    "        print(f'The {word} matches')"
   ]
  },
  {
   "cell_type": "code",
   "execution_count": 4,
   "id": "4a95a9ef",
   "metadata": {
    "scrolled": true
   },
   "outputs": [
    {
     "name": "stdout",
     "output_type": "stream",
     "text": [
      "The book matches\n",
      "The bookworm matches\n",
      "The bookish matches\n",
      "The cookbook matches\n",
      "The bookstore matches\n",
      "The pocketbook matches\n"
     ]
    }
   ],
   "source": [
    "for word in words:\n",
    "\n",
    "    if re.findall(pattern, word):\n",
    "        print(f'The {word} matches')"
   ]
  },
  {
   "cell_type": "code",
   "execution_count": 13,
   "id": "326612e9",
   "metadata": {},
   "outputs": [
    {
     "name": "stdout",
     "output_type": "stream",
     "text": [
      "The book matches\n",
      "The bookworm matches\n",
      "The Bible matches\n",
      "The bookish matches\n",
      "The cookbook matches\n",
      "The bookstore matches\n",
      "The pocketbook matches\n"
     ]
    }
   ],
   "source": [
    "l=[]\n",
    "for word in words:\n",
    "    \n",
    "    if re.finditer(pattern, word):\n",
    "        \n",
    "        print(f'The {word} matches')\n",
    "        l.append(word)"
   ]
  },
  {
   "cell_type": "code",
   "execution_count": 14,
   "id": "dda7b06c",
   "metadata": {},
   "outputs": [
    {
     "data": {
      "text/plain": [
       "['book', 'bookworm', 'Bible', 'bookish', 'cookbook', 'bookstore', 'pocketbook']"
      ]
     },
     "execution_count": 14,
     "metadata": {},
     "output_type": "execute_result"
    }
   ],
   "source": [
    "l"
   ]
  },
  {
   "cell_type": "markdown",
   "id": "d301a717",
   "metadata": {},
   "source": [
    "2. Why do raw strings often appear in Regex objects?"
   ]
  },
  {
   "cell_type": "markdown",
   "id": "3db8fb7a",
   "metadata": {},
   "source": [
    "raw string treats the back slash like string "
   ]
  },
  {
   "cell_type": "code",
   "execution_count": 15,
   "id": "0d16a563",
   "metadata": {},
   "outputs": [],
   "source": [
    "s='indhu\\nmanimaran'"
   ]
  },
  {
   "cell_type": "code",
   "execution_count": 17,
   "id": "f97f7f44",
   "metadata": {},
   "outputs": [
    {
     "name": "stdout",
     "output_type": "stream",
     "text": [
      "indhu\n",
      "manimaran\n"
     ]
    }
   ],
   "source": [
    "print(s)"
   ]
  },
  {
   "cell_type": "code",
   "execution_count": 18,
   "id": "8f8e79bc",
   "metadata": {},
   "outputs": [],
   "source": [
    "s=r'indhu\\nmanimaran'"
   ]
  },
  {
   "cell_type": "code",
   "execution_count": 19,
   "id": "9150f44c",
   "metadata": {},
   "outputs": [
    {
     "name": "stdout",
     "output_type": "stream",
     "text": [
      "indhu\\nmanimaran\n"
     ]
    }
   ],
   "source": [
    "print(s)"
   ]
  },
  {
   "cell_type": "markdown",
   "id": "283af529",
   "metadata": {},
   "source": [
    "3. What is the return value of the search() method"
   ]
  },
  {
   "cell_type": "code",
   "execution_count": 32,
   "id": "47b108a0",
   "metadata": {},
   "outputs": [],
   "source": [
    "s='i love python'\n",
    "fnd=re.search(\"\\s\",s)"
   ]
  },
  {
   "cell_type": "code",
   "execution_count": 33,
   "id": "25cc4937",
   "metadata": {},
   "outputs": [
    {
     "name": "stdout",
     "output_type": "stream",
     "text": [
      "The first white-space character is located in position: <re.Match object; span=(1, 2), match=' '>\n"
     ]
    }
   ],
   "source": [
    "print(\"The first white-space character is located in position:\", fnd)\n"
   ]
  },
  {
   "cell_type": "markdown",
   "id": "e398466d",
   "metadata": {},
   "source": [
    "4. From a Match item, how do you get the actual strings that match the pattern?"
   ]
  },
  {
   "cell_type": "code",
   "execution_count": 34,
   "id": "29b0391e",
   "metadata": {},
   "outputs": [
    {
     "name": "stdout",
     "output_type": "stream",
     "text": [
      "The book matches\n",
      "The bookworm matches\n",
      "The bookish matches\n",
      "The bookstore matches\n"
     ]
    }
   ],
   "source": [
    "import re\n",
    "\n",
    "words = ('book', 'bookworm', 'Bible', \n",
    "    'bookish','cookbook', 'bookstore', 'pocketbook')\n",
    "\n",
    "pattern = re.compile(r'book')\n",
    "\n",
    "for word in words:\n",
    "\n",
    "    if re.match(pattern, word):\n",
    "        print(f'The {word} matches')"
   ]
  },
  {
   "cell_type": "markdown",
   "id": "6beb2780",
   "metadata": {},
   "source": [
    "5. In the regex which created from the r'(\\d\\d\\d)-(\\d\\d\\d-\\d\\d\\d\\d)', what does group zero cover? Group 2? Group 1?"
   ]
  },
  {
   "cell_type": "markdown",
   "id": "0f108bdc",
   "metadata": {},
   "source": [
    "Group 0 is the entire match, group 1 covers the first set of parentheses, and group 2 covers the second set of parentheses."
   ]
  },
  {
   "cell_type": "code",
   "execution_count": 35,
   "id": "4ac3aaa1",
   "metadata": {},
   "outputs": [],
   "source": [
    "s=r'(\\d\\d\\d)-(\\d\\d\\d-\\d\\d\\d\\d)'"
   ]
  },
  {
   "cell_type": "code",
   "execution_count": 36,
   "id": "2b7cb23d",
   "metadata": {},
   "outputs": [
    {
     "data": {
      "text/plain": [
       "'(\\\\d\\\\d\\\\d)-(\\\\d\\\\d\\\\d-\\\\d\\\\d\\\\d\\\\d)'"
      ]
     },
     "execution_count": 36,
     "metadata": {},
     "output_type": "execute_result"
    }
   ],
   "source": [
    "s"
   ]
  },
  {
   "cell_type": "code",
   "execution_count": 37,
   "id": "0b2093e5",
   "metadata": {},
   "outputs": [],
   "source": [
    "s='my number is 415-555-9999'\n"
   ]
  },
  {
   "cell_type": "code",
   "execution_count": 39,
   "id": "5a6f4e30",
   "metadata": {},
   "outputs": [],
   "source": [
    "pattern=re.compile(r'(\\d\\d\\d)-(\\d\\d\\d-\\d\\d\\d\\d)')"
   ]
  },
  {
   "cell_type": "code",
   "execution_count": 41,
   "id": "977e620e",
   "metadata": {},
   "outputs": [],
   "source": [
    "fnd=pattern.search(s)"
   ]
  },
  {
   "cell_type": "code",
   "execution_count": 42,
   "id": "2bdb0d14",
   "metadata": {},
   "outputs": [
    {
     "data": {
      "text/plain": [
       "<re.Match object; span=(0, 12), match='415-555-9999'>"
      ]
     },
     "execution_count": 42,
     "metadata": {},
     "output_type": "execute_result"
    }
   ],
   "source": [
    "fnd"
   ]
  },
  {
   "cell_type": "code",
   "execution_count": 43,
   "id": "e3599422",
   "metadata": {},
   "outputs": [
    {
     "data": {
      "text/plain": [
       "'415-555-9999'"
      ]
     },
     "execution_count": 43,
     "metadata": {},
     "output_type": "execute_result"
    }
   ],
   "source": [
    "fnd.group()"
   ]
  },
  {
   "cell_type": "markdown",
   "id": "e1e257d1",
   "metadata": {},
   "source": [
    "6. In standard expression syntax, parentheses and intervals have distinct meanings. How can you tell a regex that you want it to fit real parentheses and periods?"
   ]
  },
  {
   "cell_type": "raw",
   "id": "ca9064bd",
   "metadata": {},
   "source": [
    "Periods and parentheses can be escaped with a backslash: \\., \\(, and \\)."
   ]
  },
  {
   "cell_type": "code",
   "execution_count": 45,
   "id": "5c51e584",
   "metadata": {},
   "outputs": [],
   "source": [
    "pattern=re.compile(r'(\\.\\(\\))')"
   ]
  },
  {
   "cell_type": "code",
   "execution_count": 46,
   "id": "cd69916a",
   "metadata": {},
   "outputs": [],
   "source": [
    "s1=r'.()ahsfdg'"
   ]
  },
  {
   "cell_type": "code",
   "execution_count": 47,
   "id": "593b610d",
   "metadata": {},
   "outputs": [],
   "source": [
    "fnd=pattern.search(s1)"
   ]
  },
  {
   "cell_type": "code",
   "execution_count": 48,
   "id": "de04d2b1",
   "metadata": {},
   "outputs": [
    {
     "data": {
      "text/plain": [
       "<re.Match object; span=(0, 3), match='.()'>"
      ]
     },
     "execution_count": 48,
     "metadata": {},
     "output_type": "execute_result"
    }
   ],
   "source": [
    "fnd"
   ]
  },
  {
   "cell_type": "code",
   "execution_count": 49,
   "id": "3289ca9a",
   "metadata": {},
   "outputs": [
    {
     "data": {
      "text/plain": [
       "'.()'"
      ]
     },
     "execution_count": 49,
     "metadata": {},
     "output_type": "execute_result"
    }
   ],
   "source": [
    "fnd.group()"
   ]
  },
  {
   "cell_type": "markdown",
   "id": "7f86927e",
   "metadata": {},
   "source": [
    "7. The findall() method returns a string list or a list of string tuples. What causes it to return one of the two options?"
   ]
  },
  {
   "cell_type": "code",
   "execution_count": 53,
   "id": "1ae30867",
   "metadata": {},
   "outputs": [
    {
     "data": {
      "text/plain": [
       "[('415', '555-9999')]"
      ]
     },
     "execution_count": 53,
     "metadata": {},
     "output_type": "execute_result"
    }
   ],
   "source": [
    "re.findall(r'(\\d\\d\\d)-(\\d\\d\\d-\\d\\d\\d\\d)',s)"
   ]
  },
  {
   "cell_type": "markdown",
   "id": "b9570742",
   "metadata": {},
   "source": [
    "depending upon the groups in the pattern regular expression ,it returns them like tuple or list of values."
   ]
  },
  {
   "cell_type": "markdown",
   "id": "da8e6809",
   "metadata": {},
   "source": [
    " findall returns a list of tuples if the pattern has more than one group"
   ]
  },
  {
   "cell_type": "code",
   "execution_count": 54,
   "id": "34d6c190",
   "metadata": {},
   "outputs": [
    {
     "data": {
      "text/plain": [
       "['.()']"
      ]
     },
     "execution_count": 54,
     "metadata": {},
     "output_type": "execute_result"
    }
   ],
   "source": [
    "re.findall(r'(\\.\\(\\))',s1)"
   ]
  },
  {
   "cell_type": "markdown",
   "id": "64acd61e",
   "metadata": {},
   "source": [
    "if it has only one group then it will return like list."
   ]
  },
  {
   "cell_type": "markdown",
   "id": "2c6f80d7",
   "metadata": {},
   "source": [
    "8. In standard expressions, what does the | character mean?"
   ]
  },
  {
   "cell_type": "markdown",
   "id": "f109cd3e",
   "metadata": {},
   "source": [
    "| means or functionality."
   ]
  },
  {
   "cell_type": "code",
   "execution_count": 58,
   "id": "bf17bbf9",
   "metadata": {},
   "outputs": [],
   "source": [
    "w=0|1"
   ]
  },
  {
   "cell_type": "code",
   "execution_count": 59,
   "id": "be68efe2",
   "metadata": {},
   "outputs": [
    {
     "data": {
      "text/plain": [
       "1"
      ]
     },
     "execution_count": 59,
     "metadata": {},
     "output_type": "execute_result"
    }
   ],
   "source": [
    "w"
   ]
  },
  {
   "cell_type": "code",
   "execution_count": 64,
   "id": "372e4194",
   "metadata": {},
   "outputs": [],
   "source": [
    "fnd=re.findall('codexpedia\\.(com|net|org)','codexpedia.com')"
   ]
  },
  {
   "cell_type": "code",
   "execution_count": 65,
   "id": "97aa8819",
   "metadata": {},
   "outputs": [
    {
     "data": {
      "text/plain": [
       "['com']"
      ]
     },
     "execution_count": 65,
     "metadata": {},
     "output_type": "execute_result"
    }
   ],
   "source": [
    "fnd"
   ]
  },
  {
   "cell_type": "code",
   "execution_count": 95,
   "id": "dab17b23",
   "metadata": {},
   "outputs": [],
   "source": [
    "d='https://indhu.com'\n",
    "pat=r'(https?://(www\\.)?[A-Za-z0-9]+\\.(com|org|edu|gov|us)/?.*)'"
   ]
  },
  {
   "cell_type": "code",
   "execution_count": 98,
   "id": "4fb7233d",
   "metadata": {},
   "outputs": [],
   "source": [
    "fnd=re.match(pat,d)"
   ]
  },
  {
   "cell_type": "code",
   "execution_count": 100,
   "id": "8da7155d",
   "metadata": {},
   "outputs": [
    {
     "data": {
      "text/plain": [
       "'https://indhu.com'"
      ]
     },
     "execution_count": 100,
     "metadata": {},
     "output_type": "execute_result"
    }
   ],
   "source": [
    "fnd.group()"
   ]
  },
  {
   "cell_type": "markdown",
   "id": "e0288c35",
   "metadata": {},
   "source": [
    "9. In regular expressions, what does the character stand for?"
   ]
  },
  {
   "cell_type": "raw",
   "id": "c6001067",
   "metadata": {},
   "source": [
    "[A-Za-z]"
   ]
  },
  {
   "cell_type": "raw",
   "id": "976d6192",
   "metadata": {},
   "source": [
    "re.match(r'[A-Za-z]','inDhu')"
   ]
  },
  {
   "cell_type": "code",
   "execution_count": 114,
   "id": "4bb8ae99",
   "metadata": {},
   "outputs": [],
   "source": [
    "fnd=re.findall(r'[A-Za-z]','inDhu')"
   ]
  },
  {
   "cell_type": "code",
   "execution_count": 115,
   "id": "0cf29071",
   "metadata": {},
   "outputs": [
    {
     "data": {
      "text/plain": [
       "['i', 'n', 'D', 'h', 'u']"
      ]
     },
     "execution_count": 115,
     "metadata": {},
     "output_type": "execute_result"
    }
   ],
   "source": [
    "fnd"
   ]
  },
  {
   "cell_type": "raw",
   "id": "223f4ebf",
   "metadata": {},
   "source": [
    "10.In regular expressions, what is the difference between the + and * characters?"
   ]
  },
  {
   "cell_type": "markdown",
   "id": "dfad5fd8",
   "metadata": {},
   "source": [
    "*- 0 or more characters in front of the asterisk."
   ]
  },
  {
   "cell_type": "markdown",
   "id": "71eb49b6",
   "metadata": {},
   "source": [
    "+-matches 1 or more characters in fron of the plus. "
   ]
  },
  {
   "cell_type": "code",
   "execution_count": 146,
   "id": "b72056a0",
   "metadata": {},
   "outputs": [],
   "source": [
    "pat=re.compile(r'co*l')\n",
    "pat1=re.compile(r'co+l')"
   ]
  },
  {
   "cell_type": "code",
   "execution_count": 147,
   "id": "9b195d89",
   "metadata": {},
   "outputs": [],
   "source": [
    "l=[\"cl\",\"col\",\"coool\"]"
   ]
  },
  {
   "cell_type": "code",
   "execution_count": 148,
   "id": "0eb0c1a7",
   "metadata": {},
   "outputs": [
    {
     "name": "stdout",
     "output_type": "stream",
     "text": [
      "the cl matches\n",
      "the col matches\n",
      "the coool matches\n"
     ]
    }
   ],
   "source": [
    "for i in l:\n",
    "    if re.match(pat,i):\n",
    "        print(f'the {i} matches')\n",
    "    "
   ]
  },
  {
   "cell_type": "code",
   "execution_count": 149,
   "id": "1a587d57",
   "metadata": {},
   "outputs": [
    {
     "name": "stdout",
     "output_type": "stream",
     "text": [
      "the col matches\n",
      "the coool matches\n"
     ]
    }
   ],
   "source": [
    "for i in l:\n",
    "    if re.match(pat1,i):\n",
    "        print(f'the {i} matches')"
   ]
  },
  {
   "cell_type": "markdown",
   "id": "3df8b57d",
   "metadata": {},
   "source": [
    "11. What is the difference between {4} and {4,5} in regular expression?"
   ]
  },
  {
   "cell_type": "markdown",
   "id": "e0dce131",
   "metadata": {},
   "source": [
    "{4}-takes exactly four characters.\n",
    "{4,5}-takes minimum of four character and maximum of five character"
   ]
  },
  {
   "cell_type": "code",
   "execution_count": 154,
   "id": "961ec923",
   "metadata": {},
   "outputs": [],
   "source": [
    "f=re.match('[\\d]{4}','4444')"
   ]
  },
  {
   "cell_type": "code",
   "execution_count": 155,
   "id": "c08b720c",
   "metadata": {},
   "outputs": [
    {
     "data": {
      "text/plain": [
       "'4444'"
      ]
     },
     "execution_count": 155,
     "metadata": {},
     "output_type": "execute_result"
    }
   ],
   "source": [
    "f.group()"
   ]
  },
  {
   "cell_type": "code",
   "execution_count": 159,
   "id": "0e2332b7",
   "metadata": {},
   "outputs": [],
   "source": [
    "f=re.match('[\\d]{4,5}','77777')"
   ]
  },
  {
   "cell_type": "code",
   "execution_count": 160,
   "id": "4d57e262",
   "metadata": {},
   "outputs": [
    {
     "data": {
      "text/plain": [
       "'77777'"
      ]
     },
     "execution_count": 160,
     "metadata": {},
     "output_type": "execute_result"
    }
   ],
   "source": [
    "f.group()"
   ]
  },
  {
   "cell_type": "code",
   "execution_count": 161,
   "id": "3e012f25",
   "metadata": {},
   "outputs": [],
   "source": [
    "f=re.match('[\\d]{4,5}','7777')"
   ]
  },
  {
   "cell_type": "code",
   "execution_count": 162,
   "id": "d4bc0fad",
   "metadata": {},
   "outputs": [
    {
     "data": {
      "text/plain": [
       "'7777'"
      ]
     },
     "execution_count": 162,
     "metadata": {},
     "output_type": "execute_result"
    }
   ],
   "source": [
    "f.group()"
   ]
  },
  {
   "cell_type": "code",
   "execution_count": 163,
   "id": "0e3ec8a0",
   "metadata": {},
   "outputs": [],
   "source": [
    "f=re.match('[\\d]{4,5}','7777777')"
   ]
  },
  {
   "cell_type": "code",
   "execution_count": 164,
   "id": "639930a8",
   "metadata": {},
   "outputs": [
    {
     "data": {
      "text/plain": [
       "'77777'"
      ]
     },
     "execution_count": 164,
     "metadata": {},
     "output_type": "execute_result"
    }
   ],
   "source": [
    "f.group()"
   ]
  },
  {
   "cell_type": "markdown",
   "id": "811835bb",
   "metadata": {},
   "source": [
    "12. What do you mean by the \\d, \\w, and \\s shorthand character classes signify in regular expressions?"
   ]
  },
  {
   "cell_type": "markdown",
   "id": "62a0fef7",
   "metadata": {},
   "source": [
    "\\d Backslash and d, matches digits 0 to 9, equivalent to [0-9] or [:digit]\n",
    "\\w Backslash and w, it is equivalent to [a-zA-Z0-9_], matches alphanumeric character or underscore.\n",
    "\\s - Lowercase 's'. Matches a single whitespace character like: space, newline, tab, return."
   ]
  },
  {
   "cell_type": "code",
   "execution_count": 167,
   "id": "42063827",
   "metadata": {},
   "outputs": [
    {
     "name": "stdout",
     "output_type": "stream",
     "text": [
      "How many cookies do you want?  100\n"
     ]
    }
   ],
   "source": [
    "print(\"How many cookies do you want? \", re.match(r'\\d+', '100 cookies').group())"
   ]
  },
  {
   "cell_type": "code",
   "execution_count": 168,
   "id": "6f285c1e",
   "metadata": {},
   "outputs": [
    {
     "name": "stdout",
     "output_type": "stream",
     "text": [
      "Lowercase w: Cookie\n"
     ]
    }
   ],
   "source": [
    "print(\"Lowercase w:\", re.search(r'Co\\wk\\we', 'Cookie').group())\n"
   ]
  },
  {
   "cell_type": "code",
   "execution_count": 169,
   "id": "71f2eb7f",
   "metadata": {},
   "outputs": [
    {
     "name": "stdout",
     "output_type": "stream",
     "text": [
      "Lowercase s: Eat cake\n"
     ]
    }
   ],
   "source": [
    "print(\"Lowercase s:\", re.search(r'Eat\\scake', 'Eat cake').group())"
   ]
  },
  {
   "cell_type": "markdown",
   "id": "5d470a34",
   "metadata": {},
   "source": [
    "13. What do means by \\D, \\W, and \\S shorthand character classes signify in regular expressions?"
   ]
  },
  {
   "cell_type": "markdown",
   "id": "8af57826",
   "metadata": {},
   "source": [
    "\\D - Uppercase d. Matches any character that is not a decimal digit."
   ]
  },
  {
   "cell_type": "code",
   "execution_count": 172,
   "id": "85ee2ee1",
   "metadata": {},
   "outputs": [
    {
     "name": "stdout",
     "output_type": "stream",
     "text": [
      "How many cookies do you want?   cookies\n"
     ]
    }
   ],
   "source": [
    "print(\"How many cookies do you want? \", re.search(r'\\D+', '100 cookies').group())"
   ]
  },
  {
   "cell_type": "markdown",
   "id": "b586a8e0",
   "metadata": {},
   "source": [
    "\\S - Uppercase 'S'. Matches any character not part of \\s (lowercase s)."
   ]
  },
  {
   "cell_type": "code",
   "execution_count": 173,
   "id": "f8c8e1dd",
   "metadata": {},
   "outputs": [
    {
     "name": "stdout",
     "output_type": "stream",
     "text": [
      "Uppercase S: cookie\n"
     ]
    }
   ],
   "source": [
    "print(\"Uppercase S:\", re.search(r'cook\\Se', \"Let's eat cookie\").group())"
   ]
  },
  {
   "cell_type": "markdown",
   "id": "16980cf9",
   "metadata": {},
   "source": [
    "\\W - Uppercase 'W'. Matches any character not part of \\w (lowercase w)."
   ]
  },
  {
   "cell_type": "code",
   "execution_count": 174,
   "id": "4049bc43",
   "metadata": {},
   "outputs": [
    {
     "name": "stdout",
     "output_type": "stream",
     "text": [
      "Uppercase W: C@ke\n"
     ]
    }
   ],
   "source": [
    "print(\"Uppercase W:\", re.search(r'C\\Wke', 'C@ke').group())"
   ]
  },
  {
   "cell_type": "raw",
   "id": "86dfb9cd",
   "metadata": {},
   "source": [
    "14. What is the difference between .*? and .*?"
   ]
  },
  {
   "cell_type": "code",
   "execution_count": 188,
   "id": "167f02f8",
   "metadata": {},
   "outputs": [
    {
     "name": "stdout",
     "output_type": "stream",
     "text": [
      "the match habc\n"
     ]
    }
   ],
   "source": [
    "print('the match',re.match((r'habc.*?'),'habchsvdabc').group())"
   ]
  },
  {
   "cell_type": "markdown",
   "id": "8102e4bf",
   "metadata": {},
   "source": [
    ".*? - will match string exactly given before the .*?\n",
    "(.*)? - will match whatever string given"
   ]
  },
  {
   "cell_type": "code",
   "execution_count": 223,
   "id": "518e3791",
   "metadata": {},
   "outputs": [
    {
     "name": "stdout",
     "output_type": "stream",
     "text": [
      "the match habchsvdabc\n"
     ]
    }
   ],
   "source": [
    "print('the match',re.match((r'(habc.*)?'),'habchsvdabc').group())"
   ]
  },
  {
   "cell_type": "markdown",
   "id": "4169b02c",
   "metadata": {},
   "source": [
    "15. What is the syntax for matching both numbers and lowercase letters with a character class?"
   ]
  },
  {
   "cell_type": "code",
   "execution_count": 219,
   "id": "1a116952",
   "metadata": {},
   "outputs": [
    {
     "name": "stdout",
     "output_type": "stream",
     "text": [
      "the match nhu94\n"
     ]
    }
   ],
   "source": [
    "print('the match',re.search((r'[a-z]+\\d+$'),'Inhu94').group())"
   ]
  },
  {
   "cell_type": "markdown",
   "id": "3b0b3606",
   "metadata": {},
   "source": [
    "16. What is the procedure for making a normal expression in regax case insensitive?"
   ]
  },
  {
   "cell_type": "code",
   "execution_count": 221,
   "id": "c7999a94",
   "metadata": {},
   "outputs": [
    {
     "name": "stdout",
     "output_type": "stream",
     "text": [
      "The match TeSt\n"
     ]
    }
   ],
   "source": [
    "print('The match',re.match('test', 'TeSt', re.IGNORECASE).group())\n"
   ]
  },
  {
   "cell_type": "markdown",
   "id": "9aad215b",
   "metadata": {},
   "source": [
    "17. What does the . character normally match? What does it match if re.DOTALL is passed as 2nd argument in re.compile()?\n"
   ]
  },
  {
   "cell_type": "code",
   "execution_count": 226,
   "id": "19f6f710",
   "metadata": {},
   "outputs": [
    {
     "name": "stdout",
     "output_type": "stream",
     "text": [
      "Hello,\n"
     ]
    }
   ],
   "source": [
    "match = re.search(r'.+','Hello,\\nGeeks')\n",
    "print(match.group())"
   ]
  },
  {
   "cell_type": "code",
   "execution_count": 227,
   "id": "fce33875",
   "metadata": {},
   "outputs": [
    {
     "name": "stdout",
     "output_type": "stream",
     "text": [
      "Hello,\n",
      "Geeks\n"
     ]
    }
   ],
   "source": [
    "match = re.search(r'.+','Hello,\\nGeeks',re.DOTALL)\n",
    "print(match.group())"
   ]
  },
  {
   "cell_type": "markdown",
   "id": "0927e715",
   "metadata": {},
   "source": [
    "18. If numReg = re.compile(r'\\d+'), what will numRegex.sub('X', '11 drummers, 10 pipers, five rings, 4 hen') return?"
   ]
  },
  {
   "cell_type": "code",
   "execution_count": 230,
   "id": "1d8ed111",
   "metadata": {},
   "outputs": [],
   "source": [
    "numReg = re.compile(r'\\d+')"
   ]
  },
  {
   "cell_type": "code",
   "execution_count": 232,
   "id": "0ead65d4",
   "metadata": {},
   "outputs": [
    {
     "data": {
      "text/plain": [
       "'X drummers, X pipers, five rings, X hen'"
      ]
     },
     "execution_count": 232,
     "metadata": {},
     "output_type": "execute_result"
    }
   ],
   "source": [
    "numReg.sub('X', '11 drummers, 10 pipers, five rings, 4 hen')"
   ]
  },
  {
   "cell_type": "markdown",
   "id": "771fe12b",
   "metadata": {},
   "source": [
    "19. What does passing re.VERBOSE as the 2nd argument to re.compile() allow to do?"
   ]
  },
  {
   "cell_type": "markdown",
   "id": "0b3f7dcf",
   "metadata": {},
   "source": [
    "It allows representing a regular expression in a more readable way"
   ]
  },
  {
   "cell_type": "code",
   "execution_count": 235,
   "id": "cc3e2bbd",
   "metadata": {},
   "outputs": [
    {
     "name": "stdout",
     "output_type": "stream",
     "text": [
      "25-542\n"
     ]
    }
   ],
   "source": [
    "match = re.search(r\"\"\"(?P<first_two>[\\d]{2})  # The first two digits\n",
    "          -                           # A literal python \n",
    "          (?P<last_three>[\\d]{3})     # The last three digit\n",
    "          \"\"\", '25-542', re.VERBOSE)\n",
    "print(match.group())"
   ]
  },
  {
   "cell_type": "raw",
   "id": "4634e6dd",
   "metadata": {},
   "source": [
    "20. How would you write a regex that match a number with comma for every three digits? It must match the given following:\n",
    "'42'\n",
    "'1,234'\n",
    "'6,368,745'\n",
    "but not the following:\n",
    "'12,34,567' (which has only two digits between the commas)\n",
    "'1234' (which lacks commas)\n"
   ]
  },
  {
   "cell_type": "code",
   "execution_count": 240,
   "id": "39ca4762",
   "metadata": {},
   "outputs": [
    {
     "name": "stdout",
     "output_type": "stream",
     "text": [
      "42\n"
     ]
    }
   ],
   "source": [
    "print(re.search(r'^([\\d]{1,3})(,[\\d]{3})*$','42').group())"
   ]
  },
  {
   "cell_type": "code",
   "execution_count": 241,
   "id": "e6bef29e",
   "metadata": {},
   "outputs": [
    {
     "name": "stdout",
     "output_type": "stream",
     "text": [
      "1,234\n"
     ]
    }
   ],
   "source": [
    "print(re.search(r'^([\\d]{1,3})(,[\\d]{3})*$','1,234').group())"
   ]
  },
  {
   "cell_type": "code",
   "execution_count": 242,
   "id": "75bc9f3b",
   "metadata": {},
   "outputs": [
    {
     "name": "stdout",
     "output_type": "stream",
     "text": [
      "6,368,745\n"
     ]
    }
   ],
   "source": [
    "print(re.search(r'^([\\d]{1,3})(,[\\d]{3})*$','6,368,745').group())"
   ]
  },
  {
   "cell_type": "raw",
   "id": "826fccd6",
   "metadata": {},
   "source": [
    "21. How would you write a regex that matches the full name of someone whose last name is Watanabe? You can assume that the first name that comes before it will always be one word that begins with a capital letter. The regex must match the following:\n",
    "'Haruto Watanabe'\n",
    "'Alice Watanabe'\n",
    "'RoboCop Watanabe'\n",
    "but not the following:\n",
    "'haruto Watanabe' (where the first name is not capitalized)\n",
    "'Mr. Watanabe' (where the preceding word has a nonletter character)\n",
    "'Watanabe' (which has no first name)\n",
    "'Haruto watanabe' (where Watanabe is not capitalized)\n"
   ]
  },
  {
   "cell_type": "code",
   "execution_count": 283,
   "id": "a97a74de",
   "metadata": {},
   "outputs": [
    {
     "data": {
      "text/plain": [
       "'Haruto Watanabe'"
      ]
     },
     "execution_count": 283,
     "metadata": {},
     "output_type": "execute_result"
    }
   ],
   "source": [
    "re.search(r'(^[A-Z]\\w+ Watanabe)$','Haruto Watanabe').group()"
   ]
  },
  {
   "cell_type": "code",
   "execution_count": 282,
   "id": "5fb314a5",
   "metadata": {},
   "outputs": [
    {
     "data": {
      "text/plain": [
       "'Alice Watanabe'"
      ]
     },
     "execution_count": 282,
     "metadata": {},
     "output_type": "execute_result"
    }
   ],
   "source": [
    "re.search(r'(^[A-Z]\\w+ Watanabe)$','Alice Watanabe').group()"
   ]
  },
  {
   "cell_type": "code",
   "execution_count": 284,
   "id": "65fdb273",
   "metadata": {},
   "outputs": [
    {
     "data": {
      "text/plain": [
       "'RoboCop Watanabe'"
      ]
     },
     "execution_count": 284,
     "metadata": {},
     "output_type": "execute_result"
    }
   ],
   "source": [
    "re.search(r'(^[A-Z]\\w+ Watanabe)$','RoboCop Watanabe').group()"
   ]
  },
  {
   "cell_type": "code",
   "execution_count": 285,
   "id": "d08fc530",
   "metadata": {},
   "outputs": [
    {
     "ename": "AttributeError",
     "evalue": "'NoneType' object has no attribute 'group'",
     "output_type": "error",
     "traceback": [
      "\u001b[1;31m---------------------------------------------------------------------------\u001b[0m",
      "\u001b[1;31mAttributeError\u001b[0m                            Traceback (most recent call last)",
      "\u001b[1;32m~\\AppData\\Local\\Temp/ipykernel_15424/262624463.py\u001b[0m in \u001b[0;36m<module>\u001b[1;34m\u001b[0m\n\u001b[1;32m----> 1\u001b[1;33m \u001b[0mre\u001b[0m\u001b[1;33m.\u001b[0m\u001b[0msearch\u001b[0m\u001b[1;33m(\u001b[0m\u001b[1;34mr'(^[A-Z]\\w+ Watanabe)$'\u001b[0m\u001b[1;33m,\u001b[0m\u001b[1;34m'Mr. Watanabe'\u001b[0m\u001b[1;33m)\u001b[0m\u001b[1;33m.\u001b[0m\u001b[0mgroup\u001b[0m\u001b[1;33m(\u001b[0m\u001b[1;33m)\u001b[0m\u001b[1;33m\u001b[0m\u001b[1;33m\u001b[0m\u001b[0m\n\u001b[0m",
      "\u001b[1;31mAttributeError\u001b[0m: 'NoneType' object has no attribute 'group'"
     ]
    }
   ],
   "source": [
    "re.search(r'(^[A-Z]\\w+ Watanabe)$','Mr. Watanabe').group()"
   ]
  },
  {
   "cell_type": "raw",
   "id": "93d58893",
   "metadata": {},
   "source": [
    "22. How would you write a regex that matches a sentence where the first word is either Alice, Bob, or Carol; the second word is either eats, pets, or throws; the third word is apples, cats, or baseballs; and the sentence ends with a period? This regex should be case-insensitive. It must match the following:\n",
    "'Alice eats apples.'\n",
    "'Bob pets cats.'\n",
    "'Carol throws baseballs.'\n",
    "'Alice throws Apples.'\n",
    "'BOB EATS CATS.'\n",
    "but not the following:\n",
    "'RoboCop eats apples.'\n",
    "'ALICE THROWS FOOTBALLS.'\n",
    "'Carol eats 7 cats.'\n"
   ]
  },
  {
   "cell_type": "code",
   "execution_count": 287,
   "id": "0c131471",
   "metadata": {},
   "outputs": [
    {
     "data": {
      "text/plain": [
       "'Alice eats apples.'"
      ]
     },
     "execution_count": 287,
     "metadata": {},
     "output_type": "execute_result"
    }
   ],
   "source": [
    "re.search(r'(Alice|Bob|Carol)\\s+(eats|pets|throws)\\s+(Cats|apples|baseballs)\\.','Alice eats apples.',re.IGNORECASE).group()"
   ]
  },
  {
   "cell_type": "code",
   "execution_count": 292,
   "id": "7fc7e819",
   "metadata": {},
   "outputs": [
    {
     "data": {
      "text/plain": [
       "'BOB EATS CATS.'"
      ]
     },
     "execution_count": 292,
     "metadata": {},
     "output_type": "execute_result"
    }
   ],
   "source": [
    "re.search(r'(Alice|Bob|Carol)\\s+(eats|pets|throws)\\s+(Cats|apples|baseballs)\\.','BOB EATS CATS.',re.IGNORECASE).group()"
   ]
  },
  {
   "cell_type": "code",
   "execution_count": 294,
   "id": "e3393bc1",
   "metadata": {},
   "outputs": [
    {
     "data": {
      "text/plain": [
       "'Carol throws baseballs.'"
      ]
     },
     "execution_count": 294,
     "metadata": {},
     "output_type": "execute_result"
    }
   ],
   "source": [
    "re.search(r'(Alice|Bob|Carol)\\s+(eats|pets|throws)\\s+(Cats|apples|baseballs)\\.','Carol throws baseballs.',re.IGNORECASE).group()"
   ]
  },
  {
   "cell_type": "code",
   "execution_count": 296,
   "id": "2e6a682b",
   "metadata": {},
   "outputs": [
    {
     "ename": "AttributeError",
     "evalue": "'NoneType' object has no attribute 'group'",
     "output_type": "error",
     "traceback": [
      "\u001b[1;31m---------------------------------------------------------------------------\u001b[0m",
      "\u001b[1;31mAttributeError\u001b[0m                            Traceback (most recent call last)",
      "\u001b[1;32m~\\AppData\\Local\\Temp/ipykernel_15424/3521658311.py\u001b[0m in \u001b[0;36m<module>\u001b[1;34m\u001b[0m\n\u001b[1;32m----> 1\u001b[1;33m \u001b[0mre\u001b[0m\u001b[1;33m.\u001b[0m\u001b[0msearch\u001b[0m\u001b[1;33m(\u001b[0m\u001b[1;34mr'(Alice|Bob|Carol)\\s+(eats|pets|throws)\\s+(Cats|apples|baseballs)\\.'\u001b[0m\u001b[1;33m,\u001b[0m\u001b[1;34m'ALICE THROWS FOOTBALLS.'\u001b[0m\u001b[1;33m,\u001b[0m\u001b[0mre\u001b[0m\u001b[1;33m.\u001b[0m\u001b[0mIGNORECASE\u001b[0m\u001b[1;33m)\u001b[0m\u001b[1;33m.\u001b[0m\u001b[0mgroup\u001b[0m\u001b[1;33m(\u001b[0m\u001b[1;33m)\u001b[0m\u001b[1;33m\u001b[0m\u001b[1;33m\u001b[0m\u001b[0m\n\u001b[0m",
      "\u001b[1;31mAttributeError\u001b[0m: 'NoneType' object has no attribute 'group'"
     ]
    }
   ],
   "source": [
    "re.search(r'(Alice|Bob|Carol)\\s+(eats|pets|throws)\\s+(Cats|apples|baseballs)\\.','ALICE THROWS FOOTBALLS.',re.IGNORECASE).group()"
   ]
  },
  {
   "cell_type": "code",
   "execution_count": 297,
   "id": "2457f584",
   "metadata": {},
   "outputs": [
    {
     "ename": "AttributeError",
     "evalue": "'NoneType' object has no attribute 'group'",
     "output_type": "error",
     "traceback": [
      "\u001b[1;31m---------------------------------------------------------------------------\u001b[0m",
      "\u001b[1;31mAttributeError\u001b[0m                            Traceback (most recent call last)",
      "\u001b[1;32m~\\AppData\\Local\\Temp/ipykernel_15424/1213075412.py\u001b[0m in \u001b[0;36m<module>\u001b[1;34m\u001b[0m\n\u001b[1;32m----> 1\u001b[1;33m \u001b[0mre\u001b[0m\u001b[1;33m.\u001b[0m\u001b[0msearch\u001b[0m\u001b[1;33m(\u001b[0m\u001b[1;34mr'(Alice|Bob|Carol)\\s+(eats|pets|throws)\\s+(Cats|apples|baseballs)\\.'\u001b[0m\u001b[1;33m,\u001b[0m\u001b[1;34m'Carol eats 7 cats.'\u001b[0m\u001b[1;33m,\u001b[0m\u001b[0mre\u001b[0m\u001b[1;33m.\u001b[0m\u001b[0mIGNORECASE\u001b[0m\u001b[1;33m)\u001b[0m\u001b[1;33m.\u001b[0m\u001b[0mgroup\u001b[0m\u001b[1;33m(\u001b[0m\u001b[1;33m)\u001b[0m\u001b[1;33m\u001b[0m\u001b[1;33m\u001b[0m\u001b[0m\n\u001b[0m",
      "\u001b[1;31mAttributeError\u001b[0m: 'NoneType' object has no attribute 'group'"
     ]
    }
   ],
   "source": [
    "re.search(r'(Alice|Bob|Carol)\\s+(eats|pets|throws)\\s+(Cats|apples|baseballs)\\.','Carol eats 7 cats.',re.IGNORECASE).group()"
   ]
  },
  {
   "cell_type": "code",
   "execution_count": null,
   "id": "9129060e",
   "metadata": {},
   "outputs": [],
   "source": []
  },
  {
   "cell_type": "code",
   "execution_count": 298,
   "id": "6af2b268",
   "metadata": {},
   "outputs": [
    {
     "ename": "AttributeError",
     "evalue": "'NoneType' object has no attribute 'group'",
     "output_type": "error",
     "traceback": [
      "\u001b[1;31m---------------------------------------------------------------------------\u001b[0m",
      "\u001b[1;31mAttributeError\u001b[0m                            Traceback (most recent call last)",
      "\u001b[1;32m~\\AppData\\Local\\Temp/ipykernel_15424/3378072378.py\u001b[0m in \u001b[0;36m<module>\u001b[1;34m\u001b[0m\n\u001b[1;32m----> 1\u001b[1;33m \u001b[0mre\u001b[0m\u001b[1;33m.\u001b[0m\u001b[0msearch\u001b[0m\u001b[1;33m(\u001b[0m\u001b[1;34mr'(Alice|Bob|Carol)\\s+(eats|pets|throws)\\s+(Cats|apples|baseballs)\\.'\u001b[0m\u001b[1;33m,\u001b[0m\u001b[1;34m'RoboCop eats apples.'\u001b[0m\u001b[1;33m,\u001b[0m\u001b[0mre\u001b[0m\u001b[1;33m.\u001b[0m\u001b[0mIGNORECASE\u001b[0m\u001b[1;33m)\u001b[0m\u001b[1;33m.\u001b[0m\u001b[0mgroup\u001b[0m\u001b[1;33m(\u001b[0m\u001b[1;33m)\u001b[0m\u001b[1;33m\u001b[0m\u001b[1;33m\u001b[0m\u001b[0m\n\u001b[0m",
      "\u001b[1;31mAttributeError\u001b[0m: 'NoneType' object has no attribute 'group'"
     ]
    }
   ],
   "source": [
    "re.search(r'(Alice|Bob|Carol)\\s+(eats|pets|throws)\\s+(Cats|apples|baseballs)\\.','RoboCop eats apples.',re.IGNORECASE).group()"
   ]
  },
  {
   "cell_type": "code",
   "execution_count": null,
   "id": "7d48a72a",
   "metadata": {},
   "outputs": [],
   "source": []
  }
 ],
 "metadata": {
  "kernelspec": {
   "display_name": "Python 3 (ipykernel)",
   "language": "python",
   "name": "python3"
  },
  "language_info": {
   "codemirror_mode": {
    "name": "ipython",
    "version": 3
   },
   "file_extension": ".py",
   "mimetype": "text/x-python",
   "name": "python",
   "nbconvert_exporter": "python",
   "pygments_lexer": "ipython3",
   "version": "3.9.7"
  }
 },
 "nbformat": 4,
 "nbformat_minor": 5
}
