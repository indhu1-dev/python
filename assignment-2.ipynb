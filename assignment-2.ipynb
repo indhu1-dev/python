{
 "cells": [
  {
   "cell_type": "markdown",
   "id": "a02ef6b8",
   "metadata": {},
   "source": [
    "1.What are the two values of the Boolean data type? How do you write them?"
   ]
  },
  {
   "cell_type": "markdown",
   "id": "62f07f4f",
   "metadata": {},
   "source": [
    "two values of boolean data type are,\n",
    "True and False .we should always write them using first letter capital like True and False."
   ]
  },
  {
   "cell_type": "markdown",
   "id": "d851cccf",
   "metadata": {},
   "source": [
    "2. What are the three different types of Boolean operators?"
   ]
  },
  {
   "cell_type": "markdown",
   "id": "63cfff5d",
   "metadata": {},
   "source": [
    "AND , OR , NOT"
   ]
  },
  {
   "cell_type": "markdown",
   "id": "c6d576b1",
   "metadata": {},
   "source": [
    "3. Make a list of each Boolean operator's truth tables (i.e. every possible combination of Boolean values for the operator and what it evaluate )."
   ]
  },
  {
   "cell_type": "markdown",
   "id": "8d08c698",
   "metadata": {},
   "source": [
    "AND \n",
    "\n",
    "True + True = True\n",
    "\n",
    "True + False = False \n",
    "\n",
    "False + True = False\n",
    "\n",
    "False + False = False\n",
    "\n",
    "OR \n",
    "\n",
    "True + True = True\n",
    "\n",
    "True + False = True \n",
    "\n",
    "False + True = True\n",
    "\n",
    "False + False = False\n",
    "\n",
    "NOT \n",
    "\n",
    "True --> False\n",
    "\n",
    "False --> True"
   ]
  },
  {
   "cell_type": "markdown",
   "id": "b2e646d2",
   "metadata": {},
   "source": [
    "4. What are the values of the following expressions?\n",
    "\n",
    "(5 > 4) and (3 == 5) --> False\n",
    "\n",
    "not (5 > 4) --> False\n",
    "\n",
    "(5 > 4) or (3 == 5) -->true\n",
    "\n",
    "not ((5 > 4) or (3 == 5)) --> fALSE\n",
    "\n",
    "(True and True) and (True == False) -->false\n",
    "\n",
    "(not False) or (not True) -->true\n"
   ]
  },
  {
   "cell_type": "code",
   "execution_count": 3,
   "id": "dc22f62b",
   "metadata": {},
   "outputs": [
    {
     "data": {
      "text/plain": [
       "False"
      ]
     },
     "execution_count": 3,
     "metadata": {},
     "output_type": "execute_result"
    }
   ],
   "source": [
    "\n",
    "(5 > 4) and (3 == 5) "
   ]
  },
  {
   "cell_type": "code",
   "execution_count": 4,
   "id": "a4d5649c",
   "metadata": {},
   "outputs": [
    {
     "data": {
      "text/plain": [
       "False"
      ]
     },
     "execution_count": 4,
     "metadata": {},
     "output_type": "execute_result"
    }
   ],
   "source": [
    "not (5 > 4)"
   ]
  },
  {
   "cell_type": "code",
   "execution_count": 5,
   "id": "52884c26",
   "metadata": {},
   "outputs": [
    {
     "data": {
      "text/plain": [
       "True"
      ]
     },
     "execution_count": 5,
     "metadata": {},
     "output_type": "execute_result"
    }
   ],
   "source": [
    "(5 > 4) or (3 == 5) "
   ]
  },
  {
   "cell_type": "code",
   "execution_count": 6,
   "id": "9a9c481e",
   "metadata": {},
   "outputs": [
    {
     "data": {
      "text/plain": [
       "False"
      ]
     },
     "execution_count": 6,
     "metadata": {},
     "output_type": "execute_result"
    }
   ],
   "source": [
    "not ((5 > 4) or (3 == 5))"
   ]
  },
  {
   "cell_type": "code",
   "execution_count": 7,
   "id": "4329f6d0",
   "metadata": {},
   "outputs": [
    {
     "data": {
      "text/plain": [
       "False"
      ]
     },
     "execution_count": 7,
     "metadata": {},
     "output_type": "execute_result"
    }
   ],
   "source": [
    "(True and True) and (True == False)"
   ]
  },
  {
   "cell_type": "code",
   "execution_count": 8,
   "id": "db1583b3",
   "metadata": {},
   "outputs": [
    {
     "data": {
      "text/plain": [
       "True"
      ]
     },
     "execution_count": 8,
     "metadata": {},
     "output_type": "execute_result"
    }
   ],
   "source": [
    "(not False) or (not True)"
   ]
  },
  {
   "cell_type": "markdown",
   "id": "d59c75ac",
   "metadata": {},
   "source": [
    "5. What are the six comparison operators?"
   ]
  },
  {
   "cell_type": "raw",
   "id": "4875ea1b",
   "metadata": {},
   "source": [
    "<\n",
    "\n",
    ">\n",
    "\n",
    "==\n",
    "\n",
    "!\n",
    "\n",
    "!=\n",
    "\n",
    ">=\n",
    "\n",
    "<=\n"
   ]
  },
  {
   "cell_type": "markdown",
   "id": "a07addc8",
   "metadata": {},
   "source": [
    "6. How do you tell the difference between the equal to and assignment operators?Describe a condition and when you would use one."
   ]
  },
  {
   "cell_type": "markdown",
   "id": "85ee853c",
   "metadata": {},
   "source": [
    "equal to operator could be used for comaprison by using == operator and single equal to = operator could be used for assignment"
   ]
  },
  {
   "cell_type": "code",
   "execution_count": 10,
   "id": "0e2ad83a",
   "metadata": {},
   "outputs": [
    {
     "data": {
      "text/plain": [
       "False"
      ]
     },
     "execution_count": 10,
     "metadata": {},
     "output_type": "execute_result"
    }
   ],
   "source": [
    "#comparsion\n",
    "\n",
    "5== 6"
   ]
  },
  {
   "cell_type": "code",
   "execution_count": 11,
   "id": "7f9a273e",
   "metadata": {},
   "outputs": [
    {
     "data": {
      "text/plain": [
       "10"
      ]
     },
     "execution_count": 11,
     "metadata": {},
     "output_type": "execute_result"
    }
   ],
   "source": [
    "a = 10\n",
    "a"
   ]
  },
  {
   "cell_type": "markdown",
   "id": "050b1dd3",
   "metadata": {},
   "source": [
    "7. Identify the three blocks in this code:\n",
    "spam = 0\n",
    "------\n",
    "if spam == 10:\n",
    "print('eggs')\n",
    "\n",
    "------ block 1\n",
    "\n",
    "if spam > 5:\n",
    "print('bacon')\n",
    "\n",
    "------ block2\n",
    "\n",
    "else:\n",
    "print('ham')\n",
    "print('spam')\n",
    "print('spam')\n",
    "---block3"
   ]
  },
  {
   "cell_type": "markdown",
   "id": "aa997295",
   "metadata": {},
   "source": [
    "8. Write code that prints Hello if 1 is stored in spam, prints Howdy if 2 is stored in spam, and prints Greetings! if anything else is stored in spam.\n"
   ]
  },
  {
   "cell_type": "code",
   "execution_count": 15,
   "id": "078b5963",
   "metadata": {},
   "outputs": [
    {
     "name": "stdout",
     "output_type": "stream",
     "text": [
      "hello\n"
     ]
    }
   ],
   "source": [
    "spam = 1\n",
    "\n",
    "if spam == 1 :\n",
    "    print('hello')\n",
    "elif spam == 2:\n",
    "    print('howdy')\n",
    "else :\n",
    "    print('greetings')"
   ]
  },
  {
   "cell_type": "code",
   "execution_count": 16,
   "id": "037c64c1",
   "metadata": {},
   "outputs": [
    {
     "name": "stdout",
     "output_type": "stream",
     "text": [
      "howdy\n"
     ]
    }
   ],
   "source": [
    "spam = 2\n",
    "\n",
    "if spam == 1 :\n",
    "    print('hello')\n",
    "elif spam == 2:\n",
    "    print('howdy')\n",
    "else :\n",
    "    print('greetings')"
   ]
  },
  {
   "cell_type": "code",
   "execution_count": 17,
   "id": "692f8282",
   "metadata": {},
   "outputs": [
    {
     "name": "stdout",
     "output_type": "stream",
     "text": [
      "greetings\n"
     ]
    }
   ],
   "source": [
    "spam = 3\n",
    "\n",
    "if spam == 1 :\n",
    "    print('hello')\n",
    "elif spam == 2:\n",
    "    print('howdy')\n",
    "else :\n",
    "    print('greetings')"
   ]
  },
  {
   "cell_type": "markdown",
   "id": "892a6439",
   "metadata": {},
   "source": [
    "9.If your programme is stuck in an endless loop, what keys you’ll press?"
   ]
  },
  {
   "cell_type": "markdown",
   "id": "a5fc840d",
   "metadata": {},
   "source": [
    "ctrl+c"
   ]
  },
  {
   "cell_type": "markdown",
   "id": "adfc35a6",
   "metadata": {},
   "source": [
    "10. How can you tell the difference between break and continue?\n"
   ]
  },
  {
   "cell_type": "markdown",
   "id": "be5a4218",
   "metadata": {},
   "source": [
    "break statement tries to break the condition comes out of the loop.\n",
    "continue statement passes the control to the starting of the loop  instead of breaking the loop also skips statement next to continue statement in current loop."
   ]
  },
  {
   "cell_type": "code",
   "execution_count": 1,
   "id": "a729ce9e",
   "metadata": {},
   "outputs": [
    {
     "name": "stdout",
     "output_type": "stream",
     "text": [
      "0\n",
      "1\n",
      "2\n",
      "3\n"
     ]
    }
   ],
   "source": [
    "\"\"\"break stament\"\"\"\n",
    "for i in range(0,6):\n",
    "    if i == 4:\n",
    "        break\n",
    "    print(i)"
   ]
  },
  {
   "cell_type": "code",
   "execution_count": 2,
   "id": "6dbf2490",
   "metadata": {},
   "outputs": [
    {
     "name": "stdout",
     "output_type": "stream",
     "text": [
      "0\n",
      "1\n",
      "2\n",
      "3\n",
      "5\n"
     ]
    }
   ],
   "source": [
    "\"\"\"continue statement\"\"\"\n",
    "for i in range(0,6):\n",
    "    if i == 4:\n",
    "        continue\n",
    "    print(i)"
   ]
  },
  {
   "cell_type": "markdown",
   "id": "e2cd89a6",
   "metadata": {},
   "source": [
    "11. In a for loop, what is the difference between range(10), range(0, 10), and range(0, 10, 1)?\n",
    "\n",
    "there is no difference, all three have the same meaning value ranges from 0 to 10 ,range(0, 10, 1) here third attribute 1 specifies the jump."
   ]
  },
  {
   "cell_type": "code",
   "execution_count": 3,
   "id": "5ee5e2e9",
   "metadata": {},
   "outputs": [
    {
     "name": "stdout",
     "output_type": "stream",
     "text": [
      "0\n",
      "1\n",
      "2\n",
      "3\n",
      "4\n",
      "5\n",
      "6\n",
      "7\n",
      "8\n",
      "9\n"
     ]
    }
   ],
   "source": [
    "for i in range(10):\n",
    "    print(i)"
   ]
  },
  {
   "cell_type": "code",
   "execution_count": 4,
   "id": "728fb6af",
   "metadata": {},
   "outputs": [
    {
     "name": "stdout",
     "output_type": "stream",
     "text": [
      "0\n",
      "1\n",
      "2\n",
      "3\n",
      "4\n",
      "5\n",
      "6\n",
      "7\n",
      "8\n",
      "9\n"
     ]
    }
   ],
   "source": [
    "for i in range(0,10):\n",
    "    print(i)"
   ]
  },
  {
   "cell_type": "code",
   "execution_count": 5,
   "id": "3043d19c",
   "metadata": {},
   "outputs": [
    {
     "name": "stdout",
     "output_type": "stream",
     "text": [
      "0\n",
      "1\n",
      "2\n",
      "3\n",
      "4\n",
      "5\n",
      "6\n",
      "7\n",
      "8\n",
      "9\n"
     ]
    }
   ],
   "source": [
    "for i in range(0, 10, 1):\n",
    "    print(i)"
   ]
  },
  {
   "cell_type": "markdown",
   "id": "c9fd98c7",
   "metadata": {},
   "source": [
    "12. Write a short program that prints the numbers 1 to 10 using a for loop. Then write an equivalent program that prints the numbers 1 to 10 using a while loop."
   ]
  },
  {
   "cell_type": "code",
   "execution_count": 6,
   "id": "c5064f10",
   "metadata": {},
   "outputs": [
    {
     "name": "stdout",
     "output_type": "stream",
     "text": [
      "0\n",
      "1\n",
      "2\n",
      "3\n",
      "4\n",
      "5\n",
      "6\n",
      "7\n",
      "8\n",
      "9\n"
     ]
    }
   ],
   "source": [
    "for i in range(0,10):\n",
    "    print(i)"
   ]
  },
  {
   "cell_type": "code",
   "execution_count": 1,
   "id": "e5440ab2",
   "metadata": {},
   "outputs": [
    {
     "name": "stdout",
     "output_type": "stream",
     "text": [
      "0\n",
      "1\n",
      "2\n",
      "3\n",
      "4\n",
      "5\n",
      "6\n",
      "7\n",
      "8\n",
      "9\n"
     ]
    }
   ],
   "source": [
    "i=0\n",
    "while(i<10):\n",
    "    print(i)\n",
    "    i+=1"
   ]
  },
  {
   "cell_type": "markdown",
   "id": "e8fd486a",
   "metadata": {},
   "source": [
    "13. If you had a function named bacon() inside a module named spam, how would you call it after importing spam?\n"
   ]
  },
  {
   "cell_type": "code",
   "execution_count": 6,
   "id": "7a97107c",
   "metadata": {},
   "outputs": [],
   "source": [
    "def bacon():\n",
    "    print('bacon')\n",
    "    def inside():\n",
    "        print('inside')\n",
    "    inside()"
   ]
  },
  {
   "cell_type": "code",
   "execution_count": 7,
   "id": "720b9868",
   "metadata": {},
   "outputs": [
    {
     "name": "stdout",
     "output_type": "stream",
     "text": [
      "bacon\n",
      "inside\n"
     ]
    }
   ],
   "source": [
    "bacon()"
   ]
  },
  {
   "cell_type": "code",
   "execution_count": null,
   "id": "6ec0f1b7",
   "metadata": {},
   "outputs": [],
   "source": []
  },
  {
   "cell_type": "code",
   "execution_count": null,
   "id": "374653cb",
   "metadata": {},
   "outputs": [],
   "source": []
  }
 ],
 "metadata": {
  "kernelspec": {
   "display_name": "Python 3 (ipykernel)",
   "language": "python",
   "name": "python3"
  },
  "language_info": {
   "codemirror_mode": {
    "name": "ipython",
    "version": 3
   },
   "file_extension": ".py",
   "mimetype": "text/x-python",
   "name": "python",
   "nbconvert_exporter": "python",
   "pygments_lexer": "ipython3",
   "version": "3.9.7"
  }
 },
 "nbformat": 4,
 "nbformat_minor": 5
}
