{
 "cells": [
  {
   "cell_type": "markdown",
   "id": "8ac0a841",
   "metadata": {},
   "source": [
    "1 . you have to write a fun which will take string and return a len of it without using a inbuilt fun len"
   ]
  },
  {
   "cell_type": "code",
   "execution_count": 59,
   "id": "9e9ddb0b",
   "metadata": {},
   "outputs": [],
   "source": [
    "def len_str(a) :\n",
    "    '''returns the length of the string '''\n",
    "    count=0\n",
    "    if type(a)==str:\n",
    "        for i in range(0,len(a)):\n",
    "            count=count+1\n",
    "            \n",
    "    return count\n",
    "        "
   ]
  },
  {
   "cell_type": "code",
   "execution_count": 60,
   "id": "36b97fe0",
   "metadata": {},
   "outputs": [
    {
     "data": {
      "text/plain": [
       "7"
      ]
     },
     "execution_count": 60,
     "metadata": {},
     "output_type": "execute_result"
    }
   ],
   "source": [
    "a='indh   '\n",
    "len_str(a)"
   ]
  },
  {
   "cell_type": "markdown",
   "id": "fa31dc92",
   "metadata": {},
   "source": [
    "2.write a fun which will be able to print an index of all premitive element which you will pass "
   ]
  },
  {
   "cell_type": "code",
   "execution_count": 65,
   "id": "ecd8bd71",
   "metadata": {},
   "outputs": [],
   "source": [
    "def index_element(element):\n",
    "    '''print an index of all premitive element which you will pass'''\n",
    "    if type(element) == list or type(element)== str or type(element) == tuple :\n",
    "        for i in range(len(element)) :\n",
    "            print('index', i,'for',element)\n",
    "        \n",
    "    "
   ]
  },
  {
   "cell_type": "code",
   "execution_count": 67,
   "id": "fec4302f",
   "metadata": {},
   "outputs": [
    {
     "name": "stdout",
     "output_type": "stream",
     "text": [
      "index 0 for indh   \n",
      "index 1 for indh   \n",
      "index 2 for indh   \n",
      "index 3 for indh   \n",
      "index 4 for indh   \n",
      "index 5 for indh   \n",
      "index 6 for indh   \n",
      "index 0 for [1, 2, 3]\n",
      "index 1 for [1, 2, 3]\n",
      "index 2 for [1, 2, 3]\n",
      "index 0 for (1, 2, 3)\n",
      "index 1 for (1, 2, 3)\n",
      "index 2 for (1, 2, 3)\n"
     ]
    }
   ],
   "source": [
    "l=[1,2,3]\n",
    "t=(1,2,3)\n",
    "index_element(a)\n",
    "index_element(l)\n",
    "index_element(t)"
   ]
  },
  {
   "cell_type": "markdown",
   "id": "77efaf6e",
   "metadata": {},
   "source": [
    "3 . Write a fun which will take input as a dict and give me out as a list of all the values even in case of 2 level nesting it should work . "
   ]
  },
  {
   "cell_type": "code",
   "execution_count": 87,
   "id": "a1dfa66d",
   "metadata": {},
   "outputs": [],
   "source": [
    "def dict_lst(dic):\n",
    "    '''take input as a dict and give me out as a list of all the values'''\n",
    "    l1=[]\n",
    "    if type(dic) == dict :\n",
    "        for i in dic.values():\n",
    "            if type(i) == dict :\n",
    "                for j in i.values():\n",
    "                   # print(j)\n",
    "                    l1.append(j)\n",
    "            else :\n",
    "                l1.append(i)\n",
    "    return l1\n",
    "                    \n",
    "            \n",
    "            "
   ]
  },
  {
   "cell_type": "code",
   "execution_count": 88,
   "id": "96ac5c73",
   "metadata": {},
   "outputs": [],
   "source": [
    "d={'a':1,'b':3,\n",
    "   'c':{'d':4,'e':5}\n",
    "  }"
   ]
  },
  {
   "cell_type": "code",
   "execution_count": 89,
   "id": "14c41b79",
   "metadata": {},
   "outputs": [
    {
     "data": {
      "text/plain": [
       "[1, 3, 4, 5]"
      ]
     },
     "execution_count": 89,
     "metadata": {},
     "output_type": "execute_result"
    }
   ],
   "source": [
    "dict_lst(d)t"
   ]
  },
  {
   "cell_type": "markdown",
   "id": "b23a0b5d",
   "metadata": {},
   "source": [
    "4 . write a fun which will take another function as an input and return me an output "
   ]
  },
  {
   "cell_type": "code",
   "execution_count": 103,
   "id": "be409a11",
   "metadata": {},
   "outputs": [],
   "source": [
    "def fun():\n",
    "    return 'hi'\n",
    "def fun1(fun):\n",
    "    return fun"
   ]
  },
  {
   "cell_type": "code",
   "execution_count": 100,
   "id": "7e741a55",
   "metadata": {},
   "outputs": [],
   "source": [
    "a=fun()"
   ]
  },
  {
   "cell_type": "code",
   "execution_count": 101,
   "id": "385dac2a",
   "metadata": {},
   "outputs": [
    {
     "data": {
      "text/plain": [
       "'hi'"
      ]
     },
     "execution_count": 101,
     "metadata": {},
     "output_type": "execute_result"
    }
   ],
   "source": [
    "fun1(a)"
   ]
  },
  {
   "cell_type": "markdown",
   "id": "77302050",
   "metadata": {},
   "source": [
    "5. write a function whihc will take multiple list as a input and give me concatnation of all the element as \n",
    "and output "
   ]
  },
  {
   "cell_type": "code",
   "execution_count": 134,
   "id": "6310cf98",
   "metadata": {},
   "outputs": [],
   "source": [
    "\n",
    "\n",
    "def ls(lst) :\n",
    "    '''take multiple list as a input and give me concatnation of all the element as \n",
    "and output '''\n",
    "    s=''\n",
    "    for i in lst:\n",
    "        if type(i) == list :\n",
    "            for j in i :\n",
    "                s+=str(j)\n",
    "        else :\n",
    "            s+=str(i)\n",
    "    return s\n",
    "                "
   ]
  },
  {
   "cell_type": "code",
   "execution_count": 135,
   "id": "9a3fa535",
   "metadata": {},
   "outputs": [],
   "source": [
    "lst=[1,2,3,5,[78,68,90]]"
   ]
  },
  {
   "cell_type": "code",
   "execution_count": 136,
   "id": "3ef34fdc",
   "metadata": {},
   "outputs": [
    {
     "data": {
      "text/plain": [
       "'1235786890'"
      ]
     },
     "execution_count": 136,
     "metadata": {},
     "output_type": "execute_result"
    }
   ],
   "source": [
    "ls(lst)"
   ]
  },
  {
   "cell_type": "markdown",
   "id": "c8c90f61",
   "metadata": {},
   "source": [
    "6 . write a function which will be able to take a list as an input return an index of each element \n",
    "like a inbuilt index function but even if we have repetative element it should return index "
   ]
  },
  {
   "cell_type": "code",
   "execution_count": 2,
   "id": "d46bc576",
   "metadata": {},
   "outputs": [],
   "source": [
    "def indx_ls(ls) :\n",
    "\n",
    "    '''function which will be able to take a list as an input return an index of each element like a inbuilt index function but even if we have repetative element it should return index'''\n",
    "    if type(ls) == list :\n",
    "        for i in range(len(ls)-1) :\n",
    "            print('index',i,'element',ls[i])\n",
    "\n",
    "\n",
    "        "
   ]
  },
  {
   "cell_type": "code",
   "execution_count": 3,
   "id": "549d5e24",
   "metadata": {},
   "outputs": [],
   "source": [
    "ls2=[1,23,1,3]"
   ]
  },
  {
   "cell_type": "code",
   "execution_count": 4,
   "id": "6d2d8c51",
   "metadata": {},
   "outputs": [
    {
     "name": "stdout",
     "output_type": "stream",
     "text": [
      "index 0 element 1\n",
      "index 1 element 23\n",
      "index 2 element 1\n"
     ]
    }
   ],
   "source": [
    "indx_ls(ls2)"
   ]
  },
  {
   "cell_type": "markdown",
   "id": "e32052bb",
   "metadata": {},
   "source": [
    "7.Write a function which will whould return list of all the file name from a directory ."
   ]
  },
  {
   "cell_type": "code",
   "execution_count": 8,
   "id": "4410de39",
   "metadata": {},
   "outputs": [],
   "source": [
    "def dir_Path(mypath) :\n",
    "\n",
    "    '''function which will whould return list of all the file name from a directory .'''\n",
    "\n",
    "    from os import listdir\n",
    "\n",
    "    from os.path import isfile, join\n",
    "\n",
    "    l=[]\n",
    "\n",
    "    for f in listdir(mypath) :\n",
    "\n",
    "        if isfile(join(mypath, f)):\n",
    "\n",
    "            l.append(f)\n",
    "    print(l)\n"
   ]
  },
  {
   "cell_type": "code",
   "execution_count": 9,
   "id": "d17f0048",
   "metadata": {},
   "outputs": [],
   "source": [
    "mypath=\"E:/\""
   ]
  },
  {
   "cell_type": "code",
   "execution_count": 10,
   "id": "fffb5d84",
   "metadata": {},
   "outputs": [
    {
     "name": "stdout",
     "output_type": "stream",
     "text": [
      "['BBI- Data Science -Programming-Challenge-2020_v2.pdf', 'MockSurveyData.xlsx', 'msd.csv', 'povpython.py', 'SpendData.csv', 'testdata_pov6.csv']\n"
     ]
    }
   ],
   "source": [
    "dir_Path(mypath)"
   ]
  },
  {
   "cell_type": "markdown",
   "id": "66c546fc",
   "metadata": {},
   "source": [
    "8.write a function which will be able to show your system configuration ."
   ]
  },
  {
   "cell_type": "code",
   "execution_count": 11,
   "id": "eb155186",
   "metadata": {},
   "outputs": [],
   "source": [
    "def system_config() :\n",
    "\n",
    "    '''function which will be able to show your system configuration .'''\n",
    "\n",
    "    import platform\n",
    "\n",
    "    my_system = platform.uname()\n",
    "\n",
    "    print(f\"System: {my_system.system}\")\n",
    "\n",
    "    print(f\"Node Name: {my_system.node}\")\n",
    "\n",
    "    print(f\"Release: {my_system.release}\")\n",
    "\n",
    "    print(f\"Version: {my_system.version}\")\n",
    "\n",
    "    print(f\"Machine: {my_system.machine}\")\n",
    "\n",
    "    print(f\"Processor: {my_system.processor}\")"
   ]
  },
  {
   "cell_type": "code",
   "execution_count": 12,
   "id": "e177b4f5",
   "metadata": {},
   "outputs": [
    {
     "name": "stdout",
     "output_type": "stream",
     "text": [
      "System: Windows\n",
      "Node Name: DESKTOP-1DOO7C3\n",
      "Release: 10\n",
      "Version: 10.0.19043\n",
      "Machine: AMD64\n",
      "Processor: Intel64 Family 6 Model 61 Stepping 4, GenuineIntel\n"
     ]
    }
   ],
   "source": [
    "system_config()"
   ]
  },
  {
   "cell_type": "markdown",
   "id": "98ed289c",
   "metadata": {},
   "source": [
    "9 . write a function which will be able to show date and time  ."
   ]
  },
  {
   "cell_type": "code",
   "execution_count": 24,
   "id": "0f10023e",
   "metadata": {},
   "outputs": [],
   "source": [
    "def date_time():\n",
    "    from datetime import date \n",
    "    today = date.today()\n",
    "    print(\"Today's date:\", today)\n",
    "    import datetime\n",
    "    time = datetime.datetime.now()\n",
    "    print(\"Today's time:\", time)"
   ]
  },
  {
   "cell_type": "code",
   "execution_count": 25,
   "id": "2ae1a694",
   "metadata": {},
   "outputs": [
    {
     "name": "stdout",
     "output_type": "stream",
     "text": [
      "Today's date: 2022-01-06\n",
      "Today's time: 2022-01-06 22:19:00.460357\n"
     ]
    }
   ],
   "source": [
    "date_time()"
   ]
  },
  {
   "cell_type": "markdown",
   "id": "39b4a4fa",
   "metadata": {},
   "source": [
    "10 . write a function whihc will be able to read a image file and show it to you ."
   ]
  },
  {
   "cell_type": "code",
   "execution_count": 14,
   "id": "066266dd",
   "metadata": {},
   "outputs": [],
   "source": [
    "def img ():\n",
    "    from PIL import Image\n",
    "    im = Image.open(\"F:/tree.jpg\")\n",
    "    im.show()"
   ]
  },
  {
   "cell_type": "code",
   "execution_count": 15,
   "id": "8eeb931d",
   "metadata": {},
   "outputs": [],
   "source": [
    "img()"
   ]
  },
  {
   "cell_type": "markdown",
   "id": "4f3c978d",
   "metadata": {},
   "source": [
    "12 . write a function which can read video file and play for you ."
   ]
  },
  {
   "cell_type": "code",
   "execution_count": 25,
   "id": "b3bef303",
   "metadata": {},
   "outputs": [],
   "source": [
    "def mov(src,des):\n",
    "    import os\n",
    "    import shutil\n",
    "    allfiles = os.listdir(src)\n",
    "    for f in allfiles:\n",
    "        shutil.move(src + f, des + f)"
   ]
  },
  {
   "cell_type": "code",
   "execution_count": 34,
   "id": "116ce8b2",
   "metadata": {},
   "outputs": [],
   "source": [
    "src='E:/test/'\n",
    "des='D:/test/'"
   ]
  },
  {
   "cell_type": "code",
   "execution_count": 35,
   "id": "8ed87fd2",
   "metadata": {},
   "outputs": [],
   "source": [
    "mov(src,des)"
   ]
  },
  {
   "cell_type": "markdown",
   "id": "e4f8e51a",
   "metadata": {},
   "source": [
    "16.write a func to read a complete PDf file ."
   ]
  },
  {
   "cell_type": "code",
   "execution_count": 38,
   "id": "a4ae053c",
   "metadata": {},
   "outputs": [],
   "source": [
    "def read():\n",
    "    # Importing required modules\n",
    "    import PyPDF2\n",
    "    # Creating a pdf file object\n",
    "    pdfFileObj = open('E:\\test.pdf','rb')\n",
    "    # Creating a pdf reader object\n",
    "    pdfReader = PyPDF2.PdfFileReader(pdfFileObj)\n",
    "    # Getting number of pages in pdf file\n",
    "    pages = pdfReader.numPages\n",
    "    # Loop for reading all the Pages\n",
    "    for i in range(pages):\n",
    "            # Creating a page object\n",
    "            pageObj = pdfReader.getPage(i)\n",
    "            # Printing Page Number\n",
    "            print(\"Page No: \",i)\n",
    "            # Extracting text from page\n",
    "            # And splitting it into chunks of lines\n",
    "            text = pageObj.extractText().split(\"  \")\n",
    "            # Finally the lines are stored into list\n",
    "            # For iterating over list a loop is used\n",
    "            for i in range(len(text)):\n",
    "                    # Printing the line\n",
    "                    # Lines are seprated using \"\\n\"\n",
    "                    print(text[i],end=\"\\n\\n\")\n",
    "            # For Seprating the Pages\n",
    "            print()\n",
    "    # closing the pdf file object\n",
    "    pdfFileObj.close()"
   ]
  },
  {
   "cell_type": "code",
   "execution_count": 39,
   "id": "02ca3777",
   "metadata": {},
   "outputs": [
    {
     "ename": "ModuleNotFoundError",
     "evalue": "No module named 'PyPDF2'",
     "output_type": "error",
     "traceback": [
      "\u001b[1;31m---------------------------------------------------------------------------\u001b[0m",
      "\u001b[1;31mModuleNotFoundError\u001b[0m                       Traceback (most recent call last)",
      "\u001b[1;32m~\\AppData\\Local\\Temp/ipykernel_15332/3846408170.py\u001b[0m in \u001b[0;36m<module>\u001b[1;34m\u001b[0m\n\u001b[1;32m----> 1\u001b[1;33m \u001b[0mread\u001b[0m\u001b[1;33m(\u001b[0m\u001b[1;33m)\u001b[0m\u001b[1;33m\u001b[0m\u001b[1;33m\u001b[0m\u001b[0m\n\u001b[0m",
      "\u001b[1;32m~\\AppData\\Local\\Temp/ipykernel_15332/3023990378.py\u001b[0m in \u001b[0;36mread\u001b[1;34m()\u001b[0m\n\u001b[0;32m      1\u001b[0m \u001b[1;32mdef\u001b[0m \u001b[0mread\u001b[0m\u001b[1;33m(\u001b[0m\u001b[1;33m)\u001b[0m\u001b[1;33m:\u001b[0m\u001b[1;33m\u001b[0m\u001b[1;33m\u001b[0m\u001b[0m\n\u001b[0;32m      2\u001b[0m     \u001b[1;31m# Importing required modules\u001b[0m\u001b[1;33m\u001b[0m\u001b[1;33m\u001b[0m\u001b[0m\n\u001b[1;32m----> 3\u001b[1;33m     \u001b[1;32mimport\u001b[0m \u001b[0mPyPDF2\u001b[0m\u001b[1;33m\u001b[0m\u001b[1;33m\u001b[0m\u001b[0m\n\u001b[0m\u001b[0;32m      4\u001b[0m     \u001b[1;31m# Creating a pdf file object\u001b[0m\u001b[1;33m\u001b[0m\u001b[1;33m\u001b[0m\u001b[0m\n\u001b[0;32m      5\u001b[0m     \u001b[0mpdfFileObj\u001b[0m \u001b[1;33m=\u001b[0m \u001b[0mopen\u001b[0m\u001b[1;33m(\u001b[0m\u001b[1;34m'E:\\test.pdf'\u001b[0m\u001b[1;33m,\u001b[0m\u001b[1;34m'rb'\u001b[0m\u001b[1;33m)\u001b[0m\u001b[1;33m\u001b[0m\u001b[1;33m\u001b[0m\u001b[0m\n",
      "\u001b[1;31mModuleNotFoundError\u001b[0m: No module named 'PyPDF2'"
     ]
    }
   ],
   "source": [
    "read()"
   ]
  },
  {
   "cell_type": "markdown",
   "id": "229f3496",
   "metadata": {},
   "source": [
    "19 . write a function by which you can print an ip address of your system ."
   ]
  },
  {
   "cell_type": "raw",
   "id": "1898a21d",
   "metadata": {},
   "source": [
    "def ip (hostname,IPAddr):\n",
    "print(\"Your Computer Name is:\" + hostname)   \n",
    "print(\"Your Computer IP Address is:\" + IPAddr)   \n"
   ]
  },
  {
   "cell_type": "code",
   "execution_count": 50,
   "id": "b93f8e73",
   "metadata": {},
   "outputs": [],
   "source": [
    "    import socket   \n",
    "    hostname = socket.gethostname()   \n",
    "    IPAddr = socket.gethostbyname(hostname)   \n",
    " "
   ]
  },
  {
   "cell_type": "code",
   "execution_count": 51,
   "id": "fb48079c",
   "metadata": {},
   "outputs": [
    {
     "name": "stdout",
     "output_type": "stream",
     "text": [
      "Your Computer Name is:DESKTOP-1DOO7C3\n",
      "Your Computer IP Address is:192.168.0.106\n"
     ]
    }
   ],
   "source": [
    "ip (hostname,IPAddr)"
   ]
  },
  {
   "cell_type": "code",
   "execution_count": null,
   "id": "dd3f2e19",
   "metadata": {},
   "outputs": [],
   "source": []
  }
 ],
 "metadata": {
  "kernelspec": {
   "display_name": "Python 3 (ipykernel)",
   "language": "python",
   "name": "python3"
  },
  "language_info": {
   "codemirror_mode": {
    "name": "ipython",
    "version": 3
   },
   "file_extension": ".py",
   "mimetype": "text/x-python",
   "name": "python",
   "nbconvert_exporter": "python",
   "pygments_lexer": "ipython3",
   "version": "3.9.7"
  }
 },
 "nbformat": 4,
 "nbformat_minor": 5
}
