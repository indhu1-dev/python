{
  "nbformat": 4,
  "nbformat_minor": 0,
  "metadata": {
    "colab": {
      "name": "Programming Assignment_3.ipynb",
      "provenance": []
    },
    "kernelspec": {
      "name": "python3",
      "display_name": "Python 3"
    },
    "language_info": {
      "name": "python"
    }
  },
  "cells": [
    {
      "cell_type": "markdown",
      "source": [
        "1.Write a Python Program to Check if a Number is Positive, Negative or Zero?"
      ],
      "metadata": {
        "id": "mt9BLkUCLF3v"
      }
    },
    {
      "cell_type": "code",
      "source": [
        "def num(n) :\n",
        "  if n < 0 :\n",
        "    print('negative number')\n",
        "  elif n == 0 : \n",
        "    print('number is zero')\n",
        "  else :\n",
        "    print ('number is positive')"
      ],
      "metadata": {
        "id": "vNCURpuoLMAd"
      },
      "execution_count": 2,
      "outputs": []
    },
    {
      "cell_type": "code",
      "source": [
        "n=float(input('Enter number to tested :'))"
      ],
      "metadata": {
        "colab": {
          "base_uri": "https://localhost:8080/"
        },
        "id": "Iv28qPQMLx2c",
        "outputId": "6711d9e1-b457-4d05-cf47-8dc26938452d"
      },
      "execution_count": 5,
      "outputs": [
        {
          "name": "stdout",
          "output_type": "stream",
          "text": [
            "Enter number to tested :-1\n"
          ]
        }
      ]
    },
    {
      "cell_type": "code",
      "source": [
        "num(n)"
      ],
      "metadata": {
        "colab": {
          "base_uri": "https://localhost:8080/"
        },
        "id": "ooOTtG5JL8Hj",
        "outputId": "dff71c99-fa47-4a9f-967b-b0156acfef7d"
      },
      "execution_count": 6,
      "outputs": [
        {
          "output_type": "stream",
          "name": "stdout",
          "text": [
            "negative number\n"
          ]
        }
      ]
    },
    {
      "cell_type": "markdown",
      "source": [
        "2. Write a Python Program to Check if a Number is Odd or Even?"
      ],
      "metadata": {
        "id": "dcu_cJpCMKDG"
      }
    },
    {
      "cell_type": "code",
      "source": [
        "def odd_even(num):\n",
        "  if num % 2 == 0:\n",
        "    print('The number {} is even number'.format(num))\n",
        "  else :\n",
        "    print('THe number {} is odd number'.format(num))"
      ],
      "metadata": {
        "id": "2bdoKQIZMKh6"
      },
      "execution_count": 14,
      "outputs": []
    },
    {
      "cell_type": "code",
      "source": [
        "odd_even(7)"
      ],
      "metadata": {
        "colab": {
          "base_uri": "https://localhost:8080/"
        },
        "id": "tH0XxWcEMpa1",
        "outputId": "0b515c76-2975-469b-c19b-c3401bafa24e"
      },
      "execution_count": 15,
      "outputs": [
        {
          "output_type": "stream",
          "name": "stdout",
          "text": [
            "THe number 7 is odd number\n"
          ]
        }
      ]
    },
    {
      "cell_type": "markdown",
      "source": [
        "3. Write a Python Program to Check Leap Year?"
      ],
      "metadata": {
        "id": "AQmVPSB1Mx1O"
      }
    },
    {
      "cell_type": "code",
      "source": [
        "def lep_year(y):\n",
        "# divided by 100 means century year (ending with 00)\n",
        "# century year divided by 400 is leap year\n",
        "  if (y % 400 == 0) and  (y % 100 ==0):\n",
        "    print('{} is a leap year'.format(y))\n",
        "  elif (y % 4 == 0) and (y % 100 != 0):\n",
        "    print('{} is a leap year'.format(y))\n",
        "  else :\n",
        "    print('{} is not a leap year'.format(y))"
      ],
      "metadata": {
        "id": "03g69ArkMyxM"
      },
      "execution_count": 17,
      "outputs": []
    },
    {
      "cell_type": "code",
      "source": [
        "lep_year(2000)"
      ],
      "metadata": {
        "colab": {
          "base_uri": "https://localhost:8080/"
        },
        "id": "VJLqE-VZNinN",
        "outputId": "590b261d-965d-43d4-b40d-9c474a14d026"
      },
      "execution_count": 20,
      "outputs": [
        {
          "output_type": "stream",
          "name": "stdout",
          "text": [
            "2000 is a leap year\n"
          ]
        }
      ]
    },
    {
      "cell_type": "markdown",
      "source": [
        "4. Write a Python Program to Check Prime Number?"
      ],
      "metadata": {
        "id": "cdu9CPhxOyp0"
      }
    },
    {
      "cell_type": "code",
      "source": [
        "def prime(n):\n",
        "  if n > 1 :\n",
        "    for i in range(2, int(n/2)+1) :\n",
        "      if n % i == 0 :\n",
        "        print ('{} is not a prime number'.format(n))\n",
        "        break \n",
        "    else :\n",
        "        print('{} number is a prime number'.format(n))\n",
        "  else : \n",
        "    print ('{} is not a prime number'.formart(n))"
      ],
      "metadata": {
        "id": "pLy0bcvJOzNu"
      },
      "execution_count": 27,
      "outputs": []
    },
    {
      "cell_type": "code",
      "source": [
        "prime(11)"
      ],
      "metadata": {
        "colab": {
          "base_uri": "https://localhost:8080/"
        },
        "id": "m9ts-9WfQ3YX",
        "outputId": "4094bc12-049f-4d61-b190-59452ea1b7a1"
      },
      "execution_count": 28,
      "outputs": [
        {
          "output_type": "stream",
          "name": "stdout",
          "text": [
            "11 number is a prime number\n"
          ]
        }
      ]
    },
    {
      "cell_type": "markdown",
      "source": [
        "5. Write a Python Program to Print all Prime Numbers in an Interval of 1-10000?"
      ],
      "metadata": {
        "id": "qoFqMo56Rgrm"
      }
    },
    {
      "cell_type": "code",
      "source": [
        "def prime1(n):\n",
        "  if n > 1 :\n",
        "    for i in range(2, 10000) :\n",
        "      if n % i == 0 :\n",
        "        print ('{} is not a prime number'.format(n))\n",
        "        break \n",
        "    else :\n",
        "        print('{} number is a prime number'.format(n))\n",
        "  else : \n",
        "    print ('{} is not a prime number'.formart(n))"
      ],
      "metadata": {
        "id": "woP9RxyuRhDK"
      },
      "execution_count": 30,
      "outputs": []
    },
    {
      "cell_type": "code",
      "source": [
        "prime1(11)"
      ],
      "metadata": {
        "colab": {
          "base_uri": "https://localhost:8080/"
        },
        "id": "pbHV3Y6ZRweM",
        "outputId": "756faa0c-38b3-4895-cffb-eed6c9cf3f94"
      },
      "execution_count": 31,
      "outputs": [
        {
          "output_type": "stream",
          "name": "stdout",
          "text": [
            "11 is not a prime number\n"
          ]
        }
      ]
    },
    {
      "cell_type": "code",
      "source": [
        "prime1(99)"
      ],
      "metadata": {
        "colab": {
          "base_uri": "https://localhost:8080/"
        },
        "id": "3C-IoPZbTSnI",
        "outputId": "091793ab-c2be-47d8-83e7-7c19fd5b8200"
      },
      "execution_count": 32,
      "outputs": [
        {
          "output_type": "stream",
          "name": "stdout",
          "text": [
            "99 is not a prime number\n"
          ]
        }
      ]
    },
    {
      "cell_type": "code",
      "source": [
        ""
      ],
      "metadata": {
        "id": "ppUL8xlqTkHd"
      },
      "execution_count": null,
      "outputs": []
    }
  ]
}