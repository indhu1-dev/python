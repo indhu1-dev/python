{
  "cells": [
    {
      "cell_type": "markdown",
      "source": [
        "1. Write a Python program to convert kilometers to miles?"
      ],
      "metadata": {
        "id": "PBYRBA14CIRy"
      }
    },
    {
      "cell_type": "code",
      "source": [
        "km=float(input('please enter thr kilometer that need to be converted'))"
      ],
      "metadata": {
        "id": "Bvs6CVVKCL32",
        "outputId": "1e6152b8-7e67-4fe5-c9ba-d93e6d538d7f",
        "colab": {
          "base_uri": "https://localhost:8080/"
        }
      },
      "execution_count": 33,
      "outputs": [
        {
          "name": "stdout",
          "output_type": "stream",
          "text": [
            "please enter thr kilometer that need to be converted45\n"
          ]
        }
      ]
    },
    {
      "cell_type": "code",
      "source": [
        "def kmtomile (km):\n",
        "  conv_factor=0.62137\n",
        "  mile=km*conv_factor\n",
        "  print('km converted into {} miles'.format(mile))\n",
        "  return f'km converted into {mile} miles'"
      ],
      "metadata": {
        "id": "kvCpLZ7fCs-j"
      },
      "execution_count": 37,
      "outputs": []
    },
    {
      "cell_type": "code",
      "source": [
        "kmtomile(km)"
      ],
      "metadata": {
        "id": "fQO3Ekm6DLgK",
        "outputId": "4e0caefd-6726-475c-c1e6-c6e409121c43",
        "colab": {
          "base_uri": "https://localhost:8080/",
          "height": 53
        }
      },
      "execution_count": 38,
      "outputs": [
        {
          "output_type": "stream",
          "name": "stdout",
          "text": [
            "km converted into 27.96165 miles\n"
          ]
        },
        {
          "output_type": "execute_result",
          "data": {
            "text/plain": [
              "'km converted into 27.96165 miles'"
            ],
            "application/vnd.google.colaboratory.intrinsic+json": {
              "type": "string"
            }
          },
          "metadata": {},
          "execution_count": 38
        }
      ]
    },
    {
      "cell_type": "markdown",
      "source": [
        "2. Write a Python program to convert Celsius to Fahrenheit?"
      ],
      "metadata": {
        "id": "xh7Iei6VDn-k"
      }
    },
    {
      "cell_type": "code",
      "source": [
        "f=float(input('please enter the Fahrenheit'))"
      ],
      "metadata": {
        "id": "ZTzXl40BDocd",
        "outputId": "7d8fc44e-b79a-447e-efcb-9f26e368e735",
        "colab": {
          "base_uri": "https://localhost:8080/"
        }
      },
      "execution_count": 45,
      "outputs": [
        {
          "name": "stdout",
          "output_type": "stream",
          "text": [
            "please enter the Fahrenheit120\n"
          ]
        }
      ]
    },
    {
      "cell_type": "code",
      "source": [
        "def ftoc (f):\n",
        "  c=(f-32)*5/9\n",
        "  return f'celcious is {c}'"
      ],
      "metadata": {
        "id": "qhAWI0N7EdqL"
      },
      "execution_count": 46,
      "outputs": []
    },
    {
      "cell_type": "code",
      "source": [
        "ftoc(f)"
      ],
      "metadata": {
        "id": "QRCMEL8XEzSZ",
        "outputId": "62db2729-8e0b-4a05-8f68-24d898199f32",
        "colab": {
          "base_uri": "https://localhost:8080/",
          "height": 35
        }
      },
      "execution_count": 47,
      "outputs": [
        {
          "output_type": "execute_result",
          "data": {
            "text/plain": [
              "'celcious is 48.888888888888886'"
            ],
            "application/vnd.google.colaboratory.intrinsic+json": {
              "type": "string"
            }
          },
          "metadata": {},
          "execution_count": 47
        }
      ]
    },
    {
      "cell_type": "markdown",
      "source": [
        "3. Write a Python program to display calendar?"
      ],
      "metadata": {
        "id": "1qlkSJEFPUZw"
      }
    },
    {
      "cell_type": "code",
      "source": [
        "def calendar(yy,mm):\n",
        "  import calendar\n",
        "  print( calendar.month(yy,mm))"
      ],
      "metadata": {
        "id": "aufzZX1fPVAA"
      },
      "execution_count": 51,
      "outputs": []
    },
    {
      "cell_type": "code",
      "source": [
        "calendar(2022,6)"
      ],
      "metadata": {
        "id": "ycWiKCg2PxN7",
        "outputId": "865f0c88-282f-4091-f6e2-baad4359106e",
        "colab": {
          "base_uri": "https://localhost:8080/"
        }
      },
      "execution_count": 52,
      "outputs": [
        {
          "output_type": "stream",
          "name": "stdout",
          "text": [
            "     June 2022\n",
            "Mo Tu We Th Fr Sa Su\n",
            "       1  2  3  4  5\n",
            " 6  7  8  9 10 11 12\n",
            "13 14 15 16 17 18 19\n",
            "20 21 22 23 24 25 26\n",
            "27 28 29 30\n",
            "\n"
          ]
        }
      ]
    },
    {
      "cell_type": "markdown",
      "source": [
        "4. Write a Python program to solve quadratic equation?"
      ],
      "metadata": {
        "id": "0swHCAD3QI7B"
      }
    },
    {
      "cell_type": "code",
      "source": [
        "def quad(a,b,c):\n",
        "  import cmath\n",
        "  d=b**2-4*a*c\n",
        "  sol1= (-b+cmath.sqrt(d))/(2*a)\n",
        "  sol2= (-b-cmath.sqrt(d))/(2*a)\n",
        "  print('the solution 1 is {} and solution2 is {}'.format(sol1,sol2))"
      ],
      "metadata": {
        "id": "JhJXHoGJQJgl"
      },
      "execution_count": 61,
      "outputs": []
    },
    {
      "cell_type": "code",
      "source": [
        "quad(1,3,4)"
      ],
      "metadata": {
        "id": "2AF1SGYIRbwh",
        "outputId": "a4e866ff-507a-4189-a5fa-76a441f54b6f",
        "colab": {
          "base_uri": "https://localhost:8080/"
        }
      },
      "execution_count": 62,
      "outputs": [
        {
          "output_type": "stream",
          "name": "stdout",
          "text": [
            "the solution 1 is (-1.5+1.3228756555322954j) and solution2 is (-1.5-1.3228756555322954j)\n"
          ]
        }
      ]
    },
    {
      "cell_type": "markdown",
      "source": [
        "5. Write a Python program to swap two variables without temp variable?"
      ],
      "metadata": {
        "id": "ppCX3MZJSRDf"
      }
    },
    {
      "cell_type": "code",
      "source": [
        "def swap(a,b):\n",
        "  a,b=b,a\n",
        "  return a, b"
      ],
      "metadata": {
        "id": "EmAf60-eSRk-"
      },
      "execution_count": 64,
      "outputs": []
    },
    {
      "cell_type": "code",
      "source": [
        "swap(9,6)"
      ],
      "metadata": {
        "id": "rXeghzqASnKk",
        "outputId": "50d3c727-a753-412f-ec10-d1305ad864bb",
        "colab": {
          "base_uri": "https://localhost:8080/"
        }
      },
      "execution_count": 65,
      "outputs": [
        {
          "output_type": "execute_result",
          "data": {
            "text/plain": [
              "(6, 9)"
            ]
          },
          "metadata": {},
          "execution_count": 65
        }
      ]
    },
    {
      "cell_type": "code",
      "source": [
        ""
      ],
      "metadata": {
        "id": "by8LJwd-SqgY"
      },
      "execution_count": null,
      "outputs": []
    }
  ],
  "metadata": {
    "colab": {
      "collapsed_sections": [],
      "name": "Welcome To Colaboratory",
      "toc_visible": true,
      "provenance": []
    },
    "kernelspec": {
      "display_name": "Python 3",
      "name": "python3"
    }
  },
  "nbformat": 4,
  "nbformat_minor": 0
}