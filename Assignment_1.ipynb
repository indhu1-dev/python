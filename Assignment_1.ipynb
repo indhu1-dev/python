{
 "cells": [
  {
   "cell_type": "raw",
   "id": "104b453c",
   "metadata": {},
   "source": [
    "1. In the below elements which of them are values or an expression? eg:- values can be integer or string and expressions will be mathematical operators.\n",
    "*       --->expressions\n",
    "'hello' --->values\n",
    "-87.8   ---->values\n",
    "- ----->expressions\n",
    "/ ------>expressions\n",
    "+ ----->expressions\n",
    "6 ---->values\n",
    "\n"
   ]
  },
  {
   "cell_type": "raw",
   "id": "b8b34130",
   "metadata": {},
   "source": [
    "2. What is the difference between string and variable?\n",
    "string: group of characters , values , space or experssion enclosed within a single quote eg:'hello','hello123#'\n",
    "variable : is a named memory space to store the value so using the name of variable it could be accessed any number of time.eg: a=10 here a is a variablw with name 'a'."
   ]
  },
  {
   "cell_type": "raw",
   "id": "34c54e3f",
   "metadata": {},
   "source": [
    "Describe three different data types.\n",
    "\n",
    "int(integer) : all integer values.\n",
    "str(string): group of characters , values , space or experssion enclosed within a single quote.\n",
    "boolean:all True or False value are considered to be boolean data type."
   ]
  },
  {
   "cell_type": "raw",
   "id": "ccdc4d1d",
   "metadata": {},
   "source": [
    "4. What is an expression made up of? What do all expressions do?\n",
    "\n",
    "\n",
    "An expression is  made up of variables, operators, and method invocations, which are constructed according to the syntax of the language, that evaluates to a single value."
   ]
  },
  {
   "cell_type": "raw",
   "id": "6a83976c",
   "metadata": {},
   "source": [
    "5. This assignment statements, like spam = 10. What is the difference between an expression and a statement?\n",
    "\n",
    "Evaluation of an expression  returns a result has value. eg:a+b\n",
    "Execution of a statement may or may not  displays a result value, it only does whatever the statement says.eg a=10,a<9\n"
   ]
  },
  {
   "cell_type": "raw",
   "id": "80679e53",
   "metadata": {},
   "source": [
    "6. After running the following code, what does the variable bacon contain?\n",
    "bacon = 22\n",
    "bacon + 1\n",
    "bacon contain 23"
   ]
  },
  {
   "cell_type": "code",
   "execution_count": 1,
   "id": "e77c6aee",
   "metadata": {},
   "outputs": [
    {
     "data": {
      "text/plain": [
       "23"
      ]
     },
     "execution_count": 1,
     "metadata": {},
     "output_type": "execute_result"
    }
   ],
   "source": [
    "bacon = 22\n",
    "bacon + 1\n"
   ]
  },
  {
   "cell_type": "raw",
   "id": "eb3cd527",
   "metadata": {},
   "source": [
    "7. What should the values of the following two terms be?\n",
    "'spam' + 'spamspam'\n",
    "'spam' * 3\n",
    "both returs 'spamspamspam'"
   ]
  },
  {
   "cell_type": "code",
   "execution_count": 2,
   "id": "633d0d95",
   "metadata": {},
   "outputs": [
    {
     "data": {
      "text/plain": [
       "'spamspamspam'"
      ]
     },
     "execution_count": 2,
     "metadata": {},
     "output_type": "execute_result"
    }
   ],
   "source": [
    "'spam' + 'spamspam'\n",
    "'spam' * 3"
   ]
  },
  {
   "cell_type": "code",
   "execution_count": 3,
   "id": "7aa638c7",
   "metadata": {},
   "outputs": [
    {
     "data": {
      "text/plain": [
       "'spamspamspam'"
      ]
     },
     "execution_count": 3,
     "metadata": {},
     "output_type": "execute_result"
    }
   ],
   "source": [
    "'spam' + 'spamspam'\n"
   ]
  },
  {
   "cell_type": "code",
   "execution_count": 4,
   "id": "9964d3f2",
   "metadata": {},
   "outputs": [
    {
     "data": {
      "text/plain": [
       "'spamspamspam'"
      ]
     },
     "execution_count": 4,
     "metadata": {},
     "output_type": "execute_result"
    }
   ],
   "source": [
    "'spam' * 3"
   ]
  },
  {
   "cell_type": "raw",
   "id": "685e7cb8",
   "metadata": {},
   "source": [
    "8. Why is eggs a valid variable name while 100 is invalid?\n",
    "yes,eggs start with a character, generally variable name should start with number or character."
   ]
  },
  {
   "cell_type": "raw",
   "id": "226d3888",
   "metadata": {},
   "source": [
    "9. What three functions can be used to get the integer, floating-point number, or string version of a value?\n",
    "int(),float(),str()"
   ]
  },
  {
   "cell_type": "raw",
   "id": "077aed28",
   "metadata": {},
   "source": [
    "10. Why does this expression cause an error? How can you fix it?\n",
    "'I have eaten ' + 99 + ' burritos.'\n",
    " \n",
    "99 will be consider as integer so there will be a type mismatch error if we concatinate with string ,so we have to convert the the 99 into string then concatinate to string."
   ]
  },
  {
   "cell_type": "code",
   "execution_count": 5,
   "id": "6600b97b",
   "metadata": {},
   "outputs": [
    {
     "ename": "TypeError",
     "evalue": "can only concatenate str (not \"int\") to str",
     "output_type": "error",
     "traceback": [
      "\u001b[1;31m---------------------------------------------------------------------------\u001b[0m",
      "\u001b[1;31mTypeError\u001b[0m                                 Traceback (most recent call last)",
      "\u001b[1;32m~\\AppData\\Local\\Temp/ipykernel_8260/1774935878.py\u001b[0m in \u001b[0;36m<module>\u001b[1;34m\u001b[0m\n\u001b[1;32m----> 1\u001b[1;33m \u001b[1;34m'I have eaten '\u001b[0m \u001b[1;33m+\u001b[0m \u001b[1;36m99\u001b[0m \u001b[1;33m+\u001b[0m \u001b[1;34m' burritos.'\u001b[0m\u001b[1;33m\u001b[0m\u001b[1;33m\u001b[0m\u001b[0m\n\u001b[0m",
      "\u001b[1;31mTypeError\u001b[0m: can only concatenate str (not \"int\") to str"
     ]
    }
   ],
   "source": [
    "'I have eaten ' + 99 + ' burritos.'"
   ]
  },
  {
   "cell_type": "code",
   "execution_count": 6,
   "id": "65385230",
   "metadata": {},
   "outputs": [
    {
     "data": {
      "text/plain": [
       "'I have eaten 99 burritos.'"
      ]
     },
     "execution_count": 6,
     "metadata": {},
     "output_type": "execute_result"
    }
   ],
   "source": [
    "'I have eaten ' +str(99) + ' burritos.'"
   ]
  },
  {
   "cell_type": "code",
   "execution_count": null,
   "id": "0c9ea150",
   "metadata": {},
   "outputs": [],
   "source": []
  }
 ],
 "metadata": {
  "kernelspec": {
   "display_name": "Python 3 (ipykernel)",
   "language": "python",
   "name": "python3"
  },
  "language_info": {
   "codemirror_mode": {
    "name": "ipython",
    "version": 3
   },
   "file_extension": ".py",
   "mimetype": "text/x-python",
   "name": "python",
   "nbconvert_exporter": "python",
   "pygments_lexer": "ipython3",
   "version": "3.9.7"
  }
 },
 "nbformat": 4,
 "nbformat_minor": 5
}
