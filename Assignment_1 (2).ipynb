{
 "cells": [
  {
   "cell_type": "markdown",
   "id": "34ba9dc8",
   "metadata": {},
   "source": [
    "1.In the below elements which of them are values or an expression? eg:- values can be integer or string and expressions will be mathematical operators.\n",
    "*       --->expressions\n",
    "'hello' --->values\n",
    "-87.8   ---->values\n",
    "- ----->expressions\n",
    "/ ------>expressions\n",
    "+ ----->expressions\n",
    "6 ---->values\n",
    "\n"
   ]
  },
  {
   "cell_type": "markdown",
   "id": "3ec659f0",
   "metadata": {},
   "source": [
    "2.What is the difference between string and variable?\n",
    "string: group of characters , values , space or experssion enclosed within a single quote eg:'hello','hello123#'\n",
    "variable : is a named memory space to store the value so using the name of variable it could be accessed any number of time.eg: a=10 here a is a variablw with name 'a'."
   ]
  },
  {
   "cell_type": "markdown",
   "id": "9da479ca",
   "metadata": {},
   "source": [
    "3.Describe three different data types.\n",
    "\n",
    "int(integer) : all integer values.\n",
    "str(string): group of characters , values , space or experssion enclosed within a single quote.\n",
    "boolean:all True or False value are considered to be boolean data type."
   ]
  },
  {
   "cell_type": "markdown",
   "id": "be29b95a",
   "metadata": {},
   "source": [
    "4.What is an expression made up of? What do all expressions do?\n",
    "\n",
    "\n",
    "An expression is  made up of variables, operators, and method invocations, which are constructed according to the syntax of the language, that evaluates to a single value."
   ]
  },
  {
   "cell_type": "markdown",
   "id": "b92710de",
   "metadata": {},
   "source": [
    "5.This assignment statements, like spam = 10. What is the difference between an expression and a statement?\n",
    "\n",
    "Evaluation of an expression  returns a result has value. eg:a+b\n",
    "Execution of a statement may or may not  displays a result value, it only does whatever the statement says.eg a=10,a<9\n"
   ]
  },
  {
   "cell_type": "markdown",
   "id": "e72a27a6",
   "metadata": {},
   "source": [
    "6.After running the following code, what does the variable bacon contain?\n",
    "bacon = 22\n",
    "bacon + 1\n",
    "bacon contain 23"
   ]
  },
  {
   "cell_type": "code",
   "execution_count": 1,
   "id": "1e4ca9bd",
   "metadata": {},
   "outputs": [
    {
     "data": {
      "text/plain": [
       "23"
      ]
     },
     "execution_count": 1,
     "metadata": {},
     "output_type": "execute_result"
    }
   ],
   "source": [
    "bacon = 22\n",
    "bacon + 1\n"
   ]
  },
  {
   "cell_type": "raw",
   "id": "eb4c13be",
   "metadata": {},
   "source": [
    "7.What should the values of the following two terms be?\n",
    "'spam' + 'spamspam'\n",
    "'spam' * 3\n",
    "both returs 'spamspamspam'"
   ]
  },
  {
   "cell_type": "code",
   "execution_count": 2,
   "id": "7d4e6c1d",
   "metadata": {},
   "outputs": [
    {
     "data": {
      "text/plain": [
       "'spamspamspam'"
      ]
     },
     "execution_count": 2,
     "metadata": {},
     "output_type": "execute_result"
    }
   ],
   "source": [
    "'spam' + 'spamspam'\n",
    "'spam' * 3"
   ]
  },
  {
   "cell_type": "code",
   "execution_count": 3,
   "id": "e642a9c4",
   "metadata": {},
   "outputs": [
    {
     "data": {
      "text/plain": [
       "'spamspamspam'"
      ]
     },
     "execution_count": 3,
     "metadata": {},
     "output_type": "execute_result"
    }
   ],
   "source": [
    "'spam' + 'spamspam'\n"
   ]
  },
  {
   "cell_type": "code",
   "execution_count": 4,
   "id": "91245de6",
   "metadata": {},
   "outputs": [
    {
     "data": {
      "text/plain": [
       "'spamspamspam'"
      ]
     },
     "execution_count": 4,
     "metadata": {},
     "output_type": "execute_result"
    }
   ],
   "source": [
    "'spam' * 3"
   ]
  },
  {
   "cell_type": "markdown",
   "id": "db8e8307",
   "metadata": {},
   "source": [
    "8.Why is eggs a valid variable name while 100 is invalid?\n",
    "yes,eggs start with a character, generally variable name should start with number or character."
   ]
  },
  {
   "cell_type": "markdown",
   "id": "ff36b23f",
   "metadata": {},
   "source": [
    "9.What three functions can be used to get the integer, floating-point number, or string version of a value?\n",
    "int(),float(),str()"
   ]
  },
  {
   "cell_type": "markdown",
   "id": "8e948d44",
   "metadata": {},
   "source": [
    "10.Why does this expression cause an error? How can you fix it?\n",
    "'I have eaten ' + 99 + ' burritos.'\n",
    " \n",
    "99 will be consider as integer so there will be a type mismatch error if we concatinate with string ,so we have to convert the the 99 into string then concatinate to string."
   ]
  },
  {
   "cell_type": "code",
   "execution_count": 5,
   "id": "34c7de07",
   "metadata": {},
   "outputs": [
    {
     "ename": "TypeError",
     "evalue": "can only concatenate str (not \"int\") to str",
     "output_type": "error",
     "traceback": [
      "\u001b[1;31m---------------------------------------------------------------------------\u001b[0m",
      "\u001b[1;31mTypeError\u001b[0m                                 Traceback (most recent call last)",
      "\u001b[1;32m~\\AppData\\Local\\Temp/ipykernel_8260/1774935878.py\u001b[0m in \u001b[0;36m<module>\u001b[1;34m\u001b[0m\n\u001b[1;32m----> 1\u001b[1;33m \u001b[1;34m'I have eaten '\u001b[0m \u001b[1;33m+\u001b[0m \u001b[1;36m99\u001b[0m \u001b[1;33m+\u001b[0m \u001b[1;34m' burritos.'\u001b[0m\u001b[1;33m\u001b[0m\u001b[1;33m\u001b[0m\u001b[0m\n\u001b[0m",
      "\u001b[1;31mTypeError\u001b[0m: can only concatenate str (not \"int\") to str"
     ]
    }
   ],
   "source": [
    "'I have eaten ' + 99 + ' burritos.'"
   ]
  },
  {
   "cell_type": "code",
   "execution_count": 6,
   "id": "129d1a35",
   "metadata": {},
   "outputs": [
    {
     "data": {
      "text/plain": [
       "'I have eaten 99 burritos.'"
      ]
     },
     "execution_count": 6,
     "metadata": {},
     "output_type": "execute_result"
    }
   ],
   "source": [
    "'I have eaten ' +str(99) + ' burritos.'"
   ]
  },
  {
   "cell_type": "code",
   "execution_count": null,
   "id": "2c6b2b6c",
   "metadata": {},
   "outputs": [],
   "source": []
  }
 ],
 "metadata": {
  "kernelspec": {
   "display_name": "Python 3 (ipykernel)",
   "language": "python",
   "name": "python3"
  },
  "language_info": {
   "codemirror_mode": {
    "name": "ipython",
    "version": 3
   },
   "file_extension": ".py",
   "mimetype": "text/x-python",
   "name": "python",
   "nbconvert_exporter": "python",
   "pygments_lexer": "ipython3",
   "version": "3.9.7"
  }
 },
 "nbformat": 4,
 "nbformat_minor": 5
}
